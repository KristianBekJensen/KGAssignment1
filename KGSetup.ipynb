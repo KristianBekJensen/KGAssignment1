{
 "cells": [
  {
   "cell_type": "code",
   "execution_count": 26,
   "metadata": {},
   "outputs": [],
   "source": [
    "import  csv\n",
    "import  rdflib\n",
    "from    rdflib import Graph, Namespace, URIRef, Literal, RDF, RDFS, OWL, URIRef\n",
    "from    rdflib.namespace import FOAF, DCTERMS, XSD, RDF, SDO, RDFS\n",
    "\n",
    "g = Graph()\n",
    "foodnutrition = Namespace('http://kg-course/foodnutrition/')\n",
    "# Define namespaces\n",
    "g.bind(\"foodnutrition\", foodnutrition)\n",
    "\n",
    "#example of add custom property\n",
    "#newProperty = foodnutrition[\"newProperty\"]\n",
    "#g.add((foodnutrition[\"newProperty\"], RDFS.domain, SDO.Recipe))\n",
    "\n",
    "\n",
    "\n",
    "##g.add((foodnutrition[\"newProperty\"], RDFS.range, XSD.string))"
   ]
  },
  {
   "cell_type": "markdown",
   "metadata": {},
   "source": [
    "Add Classes"
   ]
  },
  {
   "cell_type": "code",
   "execution_count": 27,
   "metadata": {},
   "outputs": [
    {
     "data": {
      "text/plain": [
       "<Graph identifier=N0dd81d28e43840528601e5296c13d203 (<class 'rdflib.graph.Graph'>)>"
      ]
     },
     "execution_count": 27,
     "metadata": {},
     "output_type": "execute_result"
    }
   ],
   "source": [
    "#Add Classes\n",
    "g.add((SDO.Recipe, RDFS.subClassOf, OWL.Thing))\n",
    "g.add((SDO.Restaurant, RDFS.subClassOf, OWL.Thing))\n",
    "g.add((SDO.NutritionInformation, RDFS.subClassOf, OWL.Thing))\n",
    "g.add((SDO.Review, RDFS.subClassOf, OWL.Thing))"
   ]
  },
  {
   "cell_type": "markdown",
   "metadata": {},
   "source": [
    "Recipe Properties"
   ]
  },
  {
   "cell_type": "code",
   "execution_count": 28,
   "metadata": {},
   "outputs": [
    {
     "data": {
      "text/plain": [
       "<Graph identifier=N0dd81d28e43840528601e5296c13d203 (<class 'rdflib.graph.Graph'>)>"
      ]
     },
     "execution_count": 28,
     "metadata": {},
     "output_type": "execute_result"
    }
   ],
   "source": [
    "\n",
    "g.add((SDO.identifier, RDFS.subClassOf, RDF.Property))\n",
    "g.add((SDO.identifier, RDFS.domain, SDO.Recipe))\n",
    "g.add((SDO.identifier, RDFS.range, RDFS.Literal))\n",
    "\n",
    "g.add((SDO.name, RDFS.subClassOf, RDF.Property))\n",
    "g.add((SDO.name, RDFS.domain, SDO.Recipe))\n",
    "g.add((SDO.name, RDFS.range, RDFS.Literal))\n",
    "\n",
    "g.add((SDO.cookTime, RDFS.subClassOf, RDF.Property))\n",
    "g.add((SDO.cookTime, RDFS.domain, SDO.Recipe))\n",
    "g.add((SDO.cookTime, RDFS.range, RDFS.Literal))\n",
    "\n",
    "g.add((SDO.prepTime, RDFS.subClassOf, RDF.Property))\n",
    "g.add((SDO.prepTime, RDFS.domain, SDO.Recipe))\n",
    "g.add((SDO.prepTime, RDFS.range, RDFS.Literal))\n",
    "\n",
    "g.add((SDO.datePublished, RDFS.subClassOf, RDF.Property))\n",
    "g.add((SDO.datePublished, RDFS.domain, SDO.Recipe))\n",
    "g.add((SDO.datePublished, RDFS.range, XSD.dateTime))\n",
    "\n",
    "g.add((SDO.image, RDFS.subClassOf, RDF.Property))\n",
    "g.add((SDO.image, RDFS.domain, SDO.Recipe))\n",
    "g.add((SDO.image, RDFS.range,XSD.anyURI))\n",
    "\n",
    "g.add((SDO.recipeCategory, RDFS.subClassOf, RDF.Property))\n",
    "g.add((SDO.recipeCategory, RDFS.domain, SDO.Recipe))\n",
    "g.add((SDO.recipeCategory, RDFS.range, RDFS.Literal))\n",
    "\n",
    "g.add((SDO.keywords, RDFS.subClassOf, RDF.Property))\n",
    "g.add((SDO.keywords, RDFS.domain, SDO.Recipe))\n",
    "g.add((SDO.keywords, RDFS.range, RDFS.Literal))\n",
    "\n",
    "g.add((SDO.recipeIngredient, RDFS.subClassOf, RDF.Property))\n",
    "g.add((SDO.recipeIngredient, RDFS.domain, SDO.Recipe)) \n",
    "g.add((SDO.recipeIngredient, RDFS.range, RDFS.Literal))\n"
   ]
  },
  {
   "cell_type": "markdown",
   "metadata": {},
   "source": [
    "Nutrition Properties"
   ]
  },
  {
   "cell_type": "code",
   "execution_count": 29,
   "metadata": {},
   "outputs": [
    {
     "data": {
      "text/plain": [
       "<Graph identifier=N0dd81d28e43840528601e5296c13d203 (<class 'rdflib.graph.Graph'>)>"
      ]
     },
     "execution_count": 29,
     "metadata": {},
     "output_type": "execute_result"
    }
   ],
   "source": [
    "# Add Nutrition Properties\n",
    "g.add((SDO.name, RDFS.subClassOf, RDF.Property))\n",
    "g.add((SDO.name, RDFS.domain, SDO.NutritionInformation))\n",
    "g.add((SDO.name, RDFS.range, RDFS.Literal))\n",
    "\n",
    "g.add((SDO.calories, RDFS.subClassOf, RDF.Property))\n",
    "g.add((SDO.calories, RDFS.domain, SDO.NutritionInformation))\n",
    "\n",
    "g.add((SDO.fatCount, RDFS.subClassOf, RDF.Property))\n",
    "g.add((SDO.fatCount, RDFS.domain, SDO.NutritionInformation))\n",
    "\n",
    "g.add((SDO.fatContent, RDFS.subClassOf, RDF.Property))\n",
    "g.add((SDO.fatContent, RDFS.domain, SDO.NutritionInformation))\n",
    "\n",
    "g.add((SDO.saturatedFatContent, RDFS.subClassOf, RDF.Property))\n",
    "g.add((SDO.saturatedFatContent, RDFS.domain, SDO.NutritionInformation))\n",
    "\n",
    "g.add((SDO.cholesterolContent, RDFS.subClassOf, RDF.Property))\n",
    "g.add((SDO.cholesterolContent, RDFS.domain, SDO.NutritionInformation))\n",
    "\n",
    "g.add((SDO.sodiumContent, RDFS.subClassOf, RDF.Property))\n",
    "g.add((SDO.sodiumContent, RDFS.domain, SDO.NutritionInformation))\n",
    "\n",
    "g.add((SDO.carbohydrateContent, RDFS.subClassOf, RDF.Property))\n",
    "g.add((SDO.carbohydrateContent, RDFS.domain, SDO.NutritionInformation))\n",
    "\n",
    "g.add((SDO.fiberContent, RDFS.subClassOf, RDF.Property))\n",
    "g.add((SDO.fiberContent, RDFS.domain, SDO.NutritionInformation))\n",
    "\n",
    "g.add((SDO.sugarContent, RDFS.subClassOf, RDF.Property))\n",
    "g.add((SDO.sugarContent, RDFS.domain, SDO.NutritionInformation))\n",
    "\n",
    "g.add((SDO.proteinContent, RDFS.subClassOf, RDF.Property))\n",
    "g.add((SDO.proteinContent, RDFS.domain, SDO.NutritionInformation))"
   ]
  },
  {
   "cell_type": "markdown",
   "metadata": {},
   "source": [
    "Reviews Properties"
   ]
  },
  {
   "cell_type": "code",
   "execution_count": 30,
   "metadata": {},
   "outputs": [
    {
     "data": {
      "text/plain": [
       "<Graph identifier=N0dd81d28e43840528601e5296c13d203 (<class 'rdflib.graph.Graph'>)>"
      ]
     },
     "execution_count": 30,
     "metadata": {},
     "output_type": "execute_result"
    }
   ],
   "source": [
    "# Add Review Properties\n",
    "\n",
    "g.add((SDO.identifier, RDFS.subClassOf, RDF.Property))\n",
    "g.add((SDO.identifier, RDFS.domain, SDO.Review))\n",
    "g.add((SDO.identifier, RDFS.range, RDFS.Literal))\n",
    "\n",
    "recipe = foodnutrition[\"RecipeID\"]\n",
    "g.add((recipe, RDFS.subClassOf, RDF.Property))\n",
    "g.add((recipe, RDFS.domain, SDO.Review))\n",
    "g.add((recipe, RDFS.range, SDO.Recipe))\n",
    "g.add((SDO.reviewBody, RDFS.domain, SDO.Review))\n"
   ]
  },
  {
   "cell_type": "markdown",
   "metadata": {},
   "source": [
    "Restaurant Properties"
   ]
  },
  {
   "cell_type": "code",
   "execution_count": 31,
   "metadata": {},
   "outputs": [
    {
     "data": {
      "text/plain": [
       "<Graph identifier=N0dd81d28e43840528601e5296c13d203 (<class 'rdflib.graph.Graph'>)>"
      ]
     },
     "execution_count": 31,
     "metadata": {},
     "output_type": "execute_result"
    }
   ],
   "source": [
    "#Add Restaurant Properties\n",
    "\n",
    "g.add((SDO.identifier, RDFS.subClassOf, RDF.Property))\n",
    "g.add((SDO.identifier, RDFS.domain, SDO.Restaurant))\n",
    "g.add((SDO.identifier, RDFS.range, RDFS.Literal))\n",
    "\n",
    "g.add((SDO.name, RDFS.subClassOf, RDF.Property))\n",
    "g.add((SDO.name, RDFS.domain, SDO.Restaurant))\n",
    "g.add((SDO.name, RDFS.range, RDFS.Literal))\n",
    "\n",
    "g.add((SDO.Country, RDFS.subClassOf, RDF.Property))\n",
    "g.add((SDO.Country, RDFS.domain, SDO.Restaurant))\n",
    "g.add((SDO.Country, RDFS.range, RDFS.Literal))\n",
    "\n",
    "g.add((SDO.City, RDFS.subClassOf, RDF.Property))\n",
    "g.add((SDO.City, RDFS.domain, SDO.Restaurant))\n",
    "g.add((SDO.City, RDFS.range, RDFS.Literal))\n",
    "\n",
    "g.add((SDO.servesCuisine, RDFS.subClassOf, RDF.Property))\n",
    "g.add((SDO.servesCuisine, RDFS.domain, SDO.Restaurant))\n",
    "g.add((SDO.servesCuisine, RDFS.range, RDFS.Literal))\n",
    "\n",
    "g.add((SDO.DeliveryMethod, RDFS.subClassOf, RDF.Property))\n",
    "g.add((SDO.DeliveryMethod, RDFS.domain, SDO.Restaurant))\n",
    "g.add((SDO.DeliveryMethod, RDFS.range, RDFS.Literal))\n",
    "\n",
    "g.add((SDO.aggregateRating, RDFS.subClassOf, RDF.Property))\n",
    "g.add((SDO.aggregateRating, RDFS.domain, SDO.Restaurant))\n",
    "g.add((SDO.aggregateRating, RDFS.range, RDFS.Literal))\n",
    "\n",
    "g.add((foodnutrition.costForTwo, RDFS.subClassOf, RDF.Property))\n",
    "g.add((foodnutrition.costForTwo, RDFS.domain, SDO.Restaurant))\n",
    "g.add((foodnutrition.costForTwo, RDFS.range, SDO.price))\n"
   ]
  },
  {
   "cell_type": "code",
   "execution_count": 32,
   "metadata": {},
   "outputs": [
    {
     "data": {
      "text/plain": [
       "<Graph identifier=N0dd81d28e43840528601e5296c13d203 (<class 'rdflib.graph.Graph'>)>"
      ]
     },
     "execution_count": 32,
     "metadata": {},
     "output_type": "execute_result"
    }
   ],
   "source": [
    "#Test\n",
    "#print(g.serialize())\n",
    "g.serialize('test.ttl')"
   ]
  },
  {
   "cell_type": "code",
   "execution_count": 8,
   "metadata": {},
   "outputs": [
    {
     "name": "stdout",
     "output_type": "stream",
     "text": [
      "Header: ['Name', 'Description', 'RecipeCategory', 'Calories', 'FatContent', 'SaturatedFatContent', 'CholesterolContent', 'SodiumContent', 'CarbohydrateContent', 'FiberContent', 'SugarContent', 'ProteinContent']\n"
     ]
    },
    {
     "data": {
      "text/plain": [
       "<Graph identifier=N4e4e15d94df2483a970c198a9fd68cf5 (<class 'rdflib.graph.Graph'>)>"
      ]
     },
     "execution_count": 8,
     "metadata": {},
     "output_type": "execute_result"
    }
   ],
   "source": [
    "with open(\"Nutrition.csv\", mode='r', newline='', encoding='latin-1') as file:\n",
    "    reader = csv.reader(file, delimiter=';')  # Create a reader object\n",
    "    header = next(reader)  # Read the header row\n",
    "    print(\"Header:\", header)\n",
    "    i = 0\n",
    "\n",
    "    # Read and print each row\n",
    "    for row in reader:\n",
    "        i += 1\n",
    "        #print(row[1])\n",
    "        #TODO: make better ID than i\n",
    "        Nutrition = foodnutrition[\"Nutrition/\" + str(i)]\n",
    "        g.add((Nutrition, RDF.type, SDO.NutritionInformation))\n",
    "        g.set((Nutrition, SDO.name, Literal(row[0], lang='en')))\n",
    "        g.set((Nutrition, SDO.description, Literal(row[1], lang='en')))\n",
    "        g.set((Nutrition, SDO.recipeCategory, Literal(row[2])))\n",
    "        g.set((Nutrition, SDO.calories, Literal(row[3])))\n",
    "        g.set((Nutrition, SDO.fatContent, Literal(row[4])))\n",
    "        g.set((Nutrition, SDO.saturatedFatContent, Literal(row[5])))\n",
    "        g.set((Nutrition, SDO.cholesterolContent, Literal(row[6])))\n",
    "        g.set((Nutrition, SDO.sodiumContent, Literal(row[7])))\n",
    "        g.set((Nutrition, SDO.carbohydrateContent, Literal(row[8])))\n",
    "        g.set((Nutrition, SDO.fiberContent, Literal(row[9])))\n",
    "        g.set((Nutrition, SDO.sugarContent, Literal(row[10])))\n",
    "        g.set((Nutrition, SDO.proteinContent, Literal(row[11])))\n",
    "        \n",
    "        if i == 10: break\n",
    "g.serialize('top10Nutrituion.ttl')"
   ]
  },
  {
   "cell_type": "code",
   "execution_count": 9,
   "metadata": {},
   "outputs": [
    {
     "name": "stdout",
     "output_type": "stream",
     "text": [
      "Header: ['RecipeId', 'Name', 'CookTime', 'PrepTime', 'DatePublished', 'Images', 'RecipeCategory', 'Keywords', 'RecipeIngredientQuantities', 'RecipeIngredientParts', 'RecipeServings', 'RecipeYield', 'RecipeInstructions']\n",
      "[a rdfg:Graph;rdflib:storage [a rdflib:Store;rdfs:label 'Memory']].\n"
     ]
    }
   ],
   "source": [
    "with open(\"Recipes.csv\", mode='r', newline='', encoding='latin-1') as file:\n",
    "    reader = csv.reader(file, delimiter=';')  # Create a reader object\n",
    "    header = next(reader)  # Read the header row\n",
    "    print(\"Header:\", header)\n",
    "    i = 0\n",
    "\n",
    "    # Read and print each row\n",
    "    for row in reader:\n",
    "        i += 1\n",
    "        Resturant = foodnutrition[\"Recipe/\" + row[0]]\n",
    "        g.add((Resturant, RDF.type, SDO.Recipe))\n",
    "        g.set((Resturant, SDO.name, Literal(row[1], lang='en')))\n",
    "        g.set((Resturant, SDO.cookTime, Literal(row[2])))\n",
    "        g.set((Resturant, SDO.prepTime, Literal(row[3])))\n",
    "        g.set((Resturant, SDO.datePublished, Literal(row[4], datatype=XSD.date)))\n",
    "        g.set((Resturant, SDO.image, Literal(row[5])))\n",
    "        g.set((Resturant, SDO.recipeCategory, Literal(row[6])))\n",
    "        g.set((Resturant, SDO.keywords, Literal(row[7])))\n",
    "        #Quantities and parts\n",
    "\n",
    "        g.set((Resturant, SDO.recipeYield, Literal(row[10])))\n",
    "        #recipe Yield\n",
    "        g.set((Resturant, SDO.recipeInstructions, Literal(row[12])))\n",
    "        \n",
    "        if i == 10: break\n",
    "print(g.serialize('top10Recipes.ttl'))"
   ]
  },
  {
   "cell_type": "code",
   "execution_count": null,
   "metadata": {},
   "outputs": [
    {
     "name": "stderr",
     "output_type": "stream",
     "text": [
      "Failed to convert Literal lexical form to value. Datatype=http://www.w3.org/2001/XMLSchema#date, Converter=<function parse_xsd_date at 0x00000261D5706660>\n",
      "Traceback (most recent call last):\n",
      "  File \"C:\\Users\\Kristian\\AppData\\Roaming\\Python\\Python312\\site-packages\\rdflib\\term.py\", line 2163, in _castLexicalToPython\n",
      "    return conv_func(lexical)  # type: ignore[arg-type]\n",
      "           ^^^^^^^^^^^^^^^^^^\n",
      "  File \"C:\\Users\\Kristian\\AppData\\Roaming\\Python\\Python312\\site-packages\\rdflib\\xsd_datetime.py\", line 593, in parse_xsd_date\n",
      "    return parse_date(date_string if not minus else (\"-\" + date_string))\n",
      "           ^^^^^^^^^^^^^^^^^^^^^^^^^^^^^^^^^^^^^^^^^^^^^^^^^^^^^^^^^^^^^\n",
      "ValueError: Invalid isoformat string: \" I'll definitely be making it again. I think you could also use blue cheese rather than goat or feta--blue seems to go well with roast beef.\"\n",
      "Failed to convert Literal lexical form to value. Datatype=http://www.w3.org/2001/XMLSchema#date, Converter=<function parse_xsd_date at 0x00000261D5706660>\n",
      "Traceback (most recent call last):\n",
      "  File \"C:\\Users\\Kristian\\AppData\\Roaming\\Python\\Python312\\site-packages\\rdflib\\term.py\", line 2163, in _castLexicalToPython\n",
      "    return conv_func(lexical)  # type: ignore[arg-type]\n",
      "           ^^^^^^^^^^^^^^^^^^\n",
      "  File \"C:\\Users\\Kristian\\AppData\\Roaming\\Python\\Python312\\site-packages\\rdflib\\xsd_datetime.py\", line 592, in parse_xsd_date\n",
      "    raise ValueError(\"XSD Date string must contain at least two dashes\")\n",
      "ValueError: XSD Date string must contain at least two dashes\n",
      "http://kg-course/foodnutrition/Review/\" does not look like a valid URI, trying to serialize this will break.\n",
      "Failed to convert Literal lexical form to value. Datatype=http://www.w3.org/2001/XMLSchema#date, Converter=<function parse_xsd_date at 0x00000261D5706660>\n",
      "Traceback (most recent call last):\n",
      "  File \"C:\\Users\\Kristian\\AppData\\Roaming\\Python\\Python312\\site-packages\\rdflib\\term.py\", line 2163, in _castLexicalToPython\n",
      "    return conv_func(lexical)  # type: ignore[arg-type]\n",
      "           ^^^^^^^^^^^^^^^^^^\n",
      "  File \"C:\\Users\\Kristian\\AppData\\Roaming\\Python\\Python312\\site-packages\\rdflib\\xsd_datetime.py\", line 592, in parse_xsd_date\n",
      "    raise ValueError(\"XSD Date string must contain at least two dashes\")\n",
      "ValueError: XSD Date string must contain at least two dashes\n",
      "Failed to convert Literal lexical form to value. Datatype=http://www.w3.org/2001/XMLSchema#date, Converter=<function parse_xsd_date at 0x00000261D5706660>\n",
      "Traceback (most recent call last):\n",
      "  File \"C:\\Users\\Kristian\\AppData\\Roaming\\Python\\Python312\\site-packages\\rdflib\\term.py\", line 2163, in _castLexicalToPython\n",
      "    return conv_func(lexical)  # type: ignore[arg-type]\n",
      "           ^^^^^^^^^^^^^^^^^^\n",
      "  File \"C:\\Users\\Kristian\\AppData\\Roaming\\Python\\Python312\\site-packages\\rdflib\\xsd_datetime.py\", line 592, in parse_xsd_date\n",
      "    raise ValueError(\"XSD Date string must contain at least two dashes\")\n",
      "ValueError: XSD Date string must contain at least two dashes\n"
     ]
    },
    {
     "name": "stdout",
     "output_type": "stream",
     "text": [
      "Header: ['ReviewId', 'RecipeId', 'AuthorId', 'AuthorName', 'Review', 'DateSubmitted', 'DateModified']\n"
     ]
    },
    {
     "ename": "Exception",
     "evalue": "\"http://kg-course/foodnutrition/Review/\"\" does not look like a valid URI, I cannot serialize this as N3/Turtle. Perhaps you wanted to urlencode it?",
     "output_type": "error",
     "traceback": [
      "\u001b[1;31m---------------------------------------------------------------------------\u001b[0m",
      "\u001b[1;31mException\u001b[0m                                 Traceback (most recent call last)",
      "Cell \u001b[1;32mIn[13], line 27\u001b[0m\n\u001b[0;32m     22\u001b[0m         g\u001b[38;5;241m.\u001b[39mset((Review, SDO\u001b[38;5;241m.\u001b[39mdateModified, Literal(row[\u001b[38;5;241m6\u001b[39m], datatype\u001b[38;5;241m=\u001b[39mXSD\u001b[38;5;241m.\u001b[39mdate)))\n\u001b[0;32m     25\u001b[0m         \u001b[38;5;28;01mif\u001b[39;00m i \u001b[38;5;241m==\u001b[39m \u001b[38;5;241m10\u001b[39m: \u001b[38;5;28;01mbreak\u001b[39;00m\n\u001b[1;32m---> 27\u001b[0m \u001b[38;5;28mprint\u001b[39m(g\u001b[38;5;241m.\u001b[39mserialize())\n",
      "File \u001b[1;32m~\\AppData\\Roaming\\Python\\Python312\\site-packages\\rdflib\\graph.py:1374\u001b[0m, in \u001b[0;36mGraph.serialize\u001b[1;34m(self, destination, format, base, encoding, **args)\u001b[0m\n\u001b[0;32m   1372\u001b[0m stream \u001b[38;5;241m=\u001b[39m BytesIO()\n\u001b[0;32m   1373\u001b[0m \u001b[38;5;28;01mif\u001b[39;00m encoding \u001b[38;5;129;01mis\u001b[39;00m \u001b[38;5;28;01mNone\u001b[39;00m:\n\u001b[1;32m-> 1374\u001b[0m     serializer\u001b[38;5;241m.\u001b[39mserialize(stream, base\u001b[38;5;241m=\u001b[39mbase, encoding\u001b[38;5;241m=\u001b[39m\u001b[38;5;124m\"\u001b[39m\u001b[38;5;124mutf-8\u001b[39m\u001b[38;5;124m\"\u001b[39m, \u001b[38;5;241m*\u001b[39m\u001b[38;5;241m*\u001b[39margs)\n\u001b[0;32m   1375\u001b[0m     \u001b[38;5;28;01mreturn\u001b[39;00m stream\u001b[38;5;241m.\u001b[39mgetvalue()\u001b[38;5;241m.\u001b[39mdecode(\u001b[38;5;124m\"\u001b[39m\u001b[38;5;124mutf-8\u001b[39m\u001b[38;5;124m\"\u001b[39m)\n\u001b[0;32m   1376\u001b[0m \u001b[38;5;28;01melse\u001b[39;00m:\n",
      "File \u001b[1;32m~\\AppData\\Roaming\\Python\\Python312\\site-packages\\rdflib\\plugins\\serializers\\turtle.py:255\u001b[0m, in \u001b[0;36mTurtleSerializer.serialize\u001b[1;34m(self, stream, base, encoding, spacious, **kwargs)\u001b[0m\n\u001b[0;32m    253\u001b[0m     \u001b[38;5;28;01mif\u001b[39;00m firstTime:\n\u001b[0;32m    254\u001b[0m         firstTime \u001b[38;5;241m=\u001b[39m \u001b[38;5;28;01mFalse\u001b[39;00m\n\u001b[1;32m--> 255\u001b[0m     \u001b[38;5;28;01mif\u001b[39;00m \u001b[38;5;28mself\u001b[39m\u001b[38;5;241m.\u001b[39mstatement(subject) \u001b[38;5;129;01mand\u001b[39;00m \u001b[38;5;129;01mnot\u001b[39;00m firstTime:\n\u001b[0;32m    256\u001b[0m         \u001b[38;5;28mself\u001b[39m\u001b[38;5;241m.\u001b[39mwrite(\u001b[38;5;124m\"\u001b[39m\u001b[38;5;130;01m\\n\u001b[39;00m\u001b[38;5;124m\"\u001b[39m)\n\u001b[0;32m    258\u001b[0m \u001b[38;5;28mself\u001b[39m\u001b[38;5;241m.\u001b[39mendDocument()\n",
      "File \u001b[1;32m~\\AppData\\Roaming\\Python\\Python312\\site-packages\\rdflib\\plugins\\serializers\\turtle.py:325\u001b[0m, in \u001b[0;36mTurtleSerializer.statement\u001b[1;34m(self, subject)\u001b[0m\n\u001b[0;32m    323\u001b[0m \u001b[38;5;28;01mdef\u001b[39;00m \u001b[38;5;21mstatement\u001b[39m(\u001b[38;5;28mself\u001b[39m, subject: _SubjectType) \u001b[38;5;241m-\u001b[39m\u001b[38;5;241m>\u001b[39m \u001b[38;5;28mbool\u001b[39m:\n\u001b[0;32m    324\u001b[0m     \u001b[38;5;28mself\u001b[39m\u001b[38;5;241m.\u001b[39msubjectDone(subject)\n\u001b[1;32m--> 325\u001b[0m     \u001b[38;5;28;01mreturn\u001b[39;00m \u001b[38;5;28mself\u001b[39m\u001b[38;5;241m.\u001b[39ms_squared(subject) \u001b[38;5;129;01mor\u001b[39;00m \u001b[38;5;28mself\u001b[39m\u001b[38;5;241m.\u001b[39ms_default(subject)\n",
      "File \u001b[1;32m~\\AppData\\Roaming\\Python\\Python312\\site-packages\\rdflib\\plugins\\serializers\\turtle.py:329\u001b[0m, in \u001b[0;36mTurtleSerializer.s_default\u001b[1;34m(self, subject)\u001b[0m\n\u001b[0;32m    327\u001b[0m \u001b[38;5;28;01mdef\u001b[39;00m \u001b[38;5;21ms_default\u001b[39m(\u001b[38;5;28mself\u001b[39m, subject: _SubjectType) \u001b[38;5;241m-\u001b[39m\u001b[38;5;241m>\u001b[39m \u001b[38;5;28mbool\u001b[39m:\n\u001b[0;32m    328\u001b[0m     \u001b[38;5;28mself\u001b[39m\u001b[38;5;241m.\u001b[39mwrite(\u001b[38;5;124m\"\u001b[39m\u001b[38;5;130;01m\\n\u001b[39;00m\u001b[38;5;124m\"\u001b[39m \u001b[38;5;241m+\u001b[39m \u001b[38;5;28mself\u001b[39m\u001b[38;5;241m.\u001b[39mindent())\n\u001b[1;32m--> 329\u001b[0m     \u001b[38;5;28mself\u001b[39m\u001b[38;5;241m.\u001b[39mpath(subject, SUBJECT)\n\u001b[0;32m    330\u001b[0m     \u001b[38;5;28mself\u001b[39m\u001b[38;5;241m.\u001b[39mpredicateList(subject)\n\u001b[0;32m    331\u001b[0m     \u001b[38;5;28mself\u001b[39m\u001b[38;5;241m.\u001b[39mwrite(\u001b[38;5;124m\"\u001b[39m\u001b[38;5;124m .\u001b[39m\u001b[38;5;124m\"\u001b[39m)\n",
      "File \u001b[1;32m~\\AppData\\Roaming\\Python\\Python312\\site-packages\\rdflib\\plugins\\serializers\\turtle.py:345\u001b[0m, in \u001b[0;36mTurtleSerializer.path\u001b[1;34m(self, node, position, newline)\u001b[0m\n\u001b[0;32m    342\u001b[0m \u001b[38;5;28;01mdef\u001b[39;00m \u001b[38;5;21mpath\u001b[39m(\u001b[38;5;28mself\u001b[39m, node: Node, position: \u001b[38;5;28mint\u001b[39m, newline: \u001b[38;5;28mbool\u001b[39m \u001b[38;5;241m=\u001b[39m \u001b[38;5;28;01mFalse\u001b[39;00m) \u001b[38;5;241m-\u001b[39m\u001b[38;5;241m>\u001b[39m \u001b[38;5;28;01mNone\u001b[39;00m:\n\u001b[0;32m    343\u001b[0m     \u001b[38;5;28;01mif\u001b[39;00m \u001b[38;5;129;01mnot\u001b[39;00m (\n\u001b[0;32m    344\u001b[0m         \u001b[38;5;28mself\u001b[39m\u001b[38;5;241m.\u001b[39mp_squared(node, position, newline)\n\u001b[1;32m--> 345\u001b[0m         \u001b[38;5;129;01mor\u001b[39;00m \u001b[38;5;28mself\u001b[39m\u001b[38;5;241m.\u001b[39mp_default(node, position, newline)\n\u001b[0;32m    346\u001b[0m     ):\n\u001b[0;32m    347\u001b[0m         \u001b[38;5;28;01mraise\u001b[39;00m Error(\u001b[38;5;124m\"\u001b[39m\u001b[38;5;124mCannot serialize node \u001b[39m\u001b[38;5;124m'\u001b[39m\u001b[38;5;132;01m%s\u001b[39;00m\u001b[38;5;124m'\u001b[39m\u001b[38;5;124m\"\u001b[39m \u001b[38;5;241m%\u001b[39m (node,))\n",
      "File \u001b[1;32m~\\AppData\\Roaming\\Python\\Python312\\site-packages\\rdflib\\plugins\\serializers\\turtle.py:352\u001b[0m, in \u001b[0;36mTurtleSerializer.p_default\u001b[1;34m(self, node, position, newline)\u001b[0m\n\u001b[0;32m    350\u001b[0m \u001b[38;5;28;01mif\u001b[39;00m position \u001b[38;5;241m!=\u001b[39m SUBJECT \u001b[38;5;129;01mand\u001b[39;00m \u001b[38;5;129;01mnot\u001b[39;00m newline:\n\u001b[0;32m    351\u001b[0m     \u001b[38;5;28mself\u001b[39m\u001b[38;5;241m.\u001b[39mwrite(\u001b[38;5;124m\"\u001b[39m\u001b[38;5;124m \u001b[39m\u001b[38;5;124m\"\u001b[39m)\n\u001b[1;32m--> 352\u001b[0m \u001b[38;5;28mself\u001b[39m\u001b[38;5;241m.\u001b[39mwrite(\u001b[38;5;28mself\u001b[39m\u001b[38;5;241m.\u001b[39mlabel(node, position))\n\u001b[0;32m    353\u001b[0m \u001b[38;5;28;01mreturn\u001b[39;00m \u001b[38;5;28;01mTrue\u001b[39;00m\n",
      "File \u001b[1;32m~\\AppData\\Roaming\\Python\\Python312\\site-packages\\rdflib\\plugins\\serializers\\turtle.py:368\u001b[0m, in \u001b[0;36mTurtleSerializer.label\u001b[1;34m(self, node, position)\u001b[0m\n\u001b[0;32m    365\u001b[0m \u001b[38;5;28;01melse\u001b[39;00m:\n\u001b[0;32m    366\u001b[0m     node \u001b[38;5;241m=\u001b[39m \u001b[38;5;28mself\u001b[39m\u001b[38;5;241m.\u001b[39mrelativize(node)  \u001b[38;5;66;03m# type: ignore[type-var]\u001b[39;00m\n\u001b[1;32m--> 368\u001b[0m     \u001b[38;5;28;01mreturn\u001b[39;00m \u001b[38;5;28mself\u001b[39m\u001b[38;5;241m.\u001b[39mgetQName(node, position \u001b[38;5;241m==\u001b[39m VERB) \u001b[38;5;129;01mor\u001b[39;00m node\u001b[38;5;241m.\u001b[39mn3()\n",
      "File \u001b[1;32m~\\AppData\\Roaming\\Python\\Python312\\site-packages\\rdflib\\term.py:325\u001b[0m, in \u001b[0;36mURIRef.n3\u001b[1;34m(self, namespace_manager)\u001b[0m\n\u001b[0;32m    315\u001b[0m \u001b[38;5;250m\u001b[39m\u001b[38;5;124;03m\"\"\"\u001b[39;00m\n\u001b[0;32m    316\u001b[0m \u001b[38;5;124;03mThis will do a limited check for valid URIs,\u001b[39;00m\n\u001b[0;32m    317\u001b[0m \u001b[38;5;124;03messentially just making sure that the string includes no illegal\u001b[39;00m\n\u001b[1;32m   (...)\u001b[0m\n\u001b[0;32m    321\u001b[0m \u001b[38;5;124;03m     a prefixed name\u001b[39;00m\n\u001b[0;32m    322\u001b[0m \u001b[38;5;124;03m\"\"\"\u001b[39;00m\n\u001b[0;32m    324\u001b[0m \u001b[38;5;28;01mif\u001b[39;00m \u001b[38;5;129;01mnot\u001b[39;00m _is_valid_uri(\u001b[38;5;28mself\u001b[39m):\n\u001b[1;32m--> 325\u001b[0m     \u001b[38;5;28;01mraise\u001b[39;00m \u001b[38;5;167;01mException\u001b[39;00m(\n\u001b[0;32m    326\u001b[0m         \u001b[38;5;124mf\u001b[39m\u001b[38;5;124m'\u001b[39m\u001b[38;5;124m\"\u001b[39m\u001b[38;5;132;01m{\u001b[39;00m\u001b[38;5;28mself\u001b[39m\u001b[38;5;132;01m}\u001b[39;00m\u001b[38;5;124m\"\u001b[39m\u001b[38;5;124m does not look like a valid URI, I cannot serialize this as N3/Turtle. Perhaps you wanted to urlencode it?\u001b[39m\u001b[38;5;124m'\u001b[39m\n\u001b[0;32m    327\u001b[0m     )\n\u001b[0;32m    329\u001b[0m \u001b[38;5;28;01mif\u001b[39;00m namespace_manager:\n\u001b[0;32m    330\u001b[0m     \u001b[38;5;28;01mreturn\u001b[39;00m namespace_manager\u001b[38;5;241m.\u001b[39mnormalizeUri(\u001b[38;5;28mself\u001b[39m)\n",
      "\u001b[1;31mException\u001b[0m: \"http://kg-course/foodnutrition/Review/\"\" does not look like a valid URI, I cannot serialize this as N3/Turtle. Perhaps you wanted to urlencode it?"
     ]
    }
   ],
   "source": [
    "## Possible not neccesary because is unstructured, they say............\n",
    "with open(\"Reviews.txt\", mode='r', newline='', encoding='latin-1') as file:\n",
    "    reader = csv.reader(file, delimiter='\\t')  # Create a reader object\n",
    "    header = next(reader)  # Read the header row\n",
    "    print(\"Header:\", header)\n",
    "    i = 0\n",
    "\n",
    "    # Read and print each row\n",
    "    for row in reader:\n",
    "        i += 1\n",
    "        #print(row)\n",
    "\n",
    "        if len(row[0]) == 0: continue\n",
    "\n",
    "        Review = foodnutrition[\"Review/\" + row[0]]\n",
    "        g.add((Review, RDF.type, SDO.Review))\n",
    "        g.set((Review, foodnutrition.reviewId, Literal(row[1])))\n",
    "        g.set((Review, foodnutrition.recipeId, Literal(row[2])))\n",
    "        g.set((Review, foodnutrition.authorId, Literal(row[3])))\n",
    "        g.set((Review, SDO.author, Literal(row[2])))\n",
    "        g.set((Review, SDO.reviewBody, Literal(row[4])))\n",
    "        g.set((Review, SDO.datePublished, Literal(row[5], datatype=XSD.date)))\n",
    "        g.set((Review, SDO.dateModified, Literal(row[6], datatype=XSD.date)))\n",
    "\n",
    "                \n",
    "        if i == 10: break\n",
    "\n",
    "print(g.serialize())"
   ]
  },
  {
   "cell_type": "markdown",
   "metadata": {},
   "source": []
  },
  {
   "cell_type": "code",
   "execution_count": null,
   "metadata": {},
   "outputs": [
    {
     "name": "stdout",
     "output_type": "stream",
     "text": [
      "Header: ['Restaurant ID', 'Restaurant Name', 'Country', 'City', 'Address', 'Locality Verbose', 'Longitude', 'Latitude', 'Cuisines', 'Currency', 'Has Table booking', 'Has Online delivery', 'Is delivering now', 'Switch to order menu', 'Price range', 'Aggregate rating', 'Rating color', 'Rating text', 'Votes', 'Nummber of dishes in cuisines', 'Average cost of two in USD']\n",
      "[a rdfg:Graph;rdflib:storage [a rdflib:Store;rdfs:label 'Memory']].\n"
     ]
    }
   ],
   "source": [
    "with open(\"Restaurants.csv\", mode='r', newline='', encoding='latin-1') as file:\n",
    "    reader = csv.reader(file, delimiter=';')  # Create a reader object\n",
    "    header = next(reader)  # Read the header row\n",
    "    print(\"Header:\", header)\n",
    "    i = 0\n",
    "\n",
    "    # Read and print each row\n",
    "    for row in reader:\n",
    "        i += 1\n",
    "        Resturant = foodnutrition[\"Restaurant/\" + row[0]]\n",
    "        g.add((Resturant, RDF.type, SDO.Restaurant))\n",
    "        g.set((Resturant, SDO.name, Literal(row[1], lang='en')))\n",
    "\n",
    "        g.set((Resturant, SDO.servesCuisine, Literal(row[8], lang='en')))\n",
    "        g.set((Resturant, SDO.currenciesAccepted, Literal(row[9], lang='en')))\n",
    "        g.set((Resturant, SDO.acceptsReservations, Literal(row[10], datatype=XSD.boolean)))\n",
    "        g.set((Resturant, SDO.priceRange, Literal(row[14])))\n",
    "        g.set((Resturant, SDO.aggregateRating, Literal(row[15])))\n",
    "        g.set((Resturant, foodnutrition.votes, Literal(row[18])))\n",
    "\n",
    "        g.set((Resturant, SDO.priceRange, Literal(row[20])))\n",
    " \n",
    "        \n",
    "        if i == 10: break\n",
    "print(g.serialize('top10Restaurants.ttl'))\n"
   ]
  }
 ],
 "metadata": {
  "kernelspec": {
   "display_name": "Python 3",
   "language": "python",
   "name": "python3"
  },
  "language_info": {
   "codemirror_mode": {
    "name": "ipython",
    "version": 3
   },
   "file_extension": ".py",
   "mimetype": "text/x-python",
   "name": "python",
   "nbconvert_exporter": "python",
   "pygments_lexer": "ipython3",
   "version": "3.10.11"
  }
 },
 "nbformat": 4,
 "nbformat_minor": 2
}
