{
 "cells": [
  {
   "cell_type": "code",
   "execution_count": null,
   "metadata": {},
   "outputs": [],
   "source": [
    "import  csv\n",
    "import  rdflib\n",
    "from    rdflib import Graph, Namespace, URIRef, Literal, RDF, RDFS, OWL, URIRef\n",
    "from    rdflib.namespace import FOAF, DCTERMS, XSD, RDF, SDO, RDFS\n",
    "\n",
    "g = Graph()\n",
    "foodnutrition = Namespace('http://kg-course/foodnutrition/')\n",
    "# Define namespaces\n",
    "g.bind(\"foodnutrition\", foodnutrition)\n",
    "\n",
    "#example of add custom property\n",
    "#newProperty = foodnutrition[\"newProperty\"]\n",
    "#g.add((foodnutrition[\"newProperty\"], RDFS.domain, SDO.Recipe))\n",
    "\n",
    "#test\n",
    "\n",
    "##g.add((foodnutrition[\"newProperty\"], RDFS.range, XSD.string))"
   ]
  },
  {
   "cell_type": "markdown",
   "metadata": {},
   "source": [
    "Add Classes"
   ]
  },
  {
   "cell_type": "code",
   "execution_count": null,
   "metadata": {},
   "outputs": [],
   "source": [
    "#Add Classes\n",
    "g.add((SDO.Recipe, RDFS.subClassOf, OWL.Thing))\n",
    "g.add((SDO.Restaurant, RDFS.subClassOf, OWL.Thing))\n",
    "g.add((SDO.NutritionInformation, RDFS.subClassOf, OWL.Thing))\n",
    "g.add((SDO.Review, RDFS.subClassOf, OWL.Thing))"
   ]
  },
  {
   "cell_type": "markdown",
   "metadata": {},
   "source": [
    "Recipe Properties"
   ]
  },
  {
   "cell_type": "code",
   "execution_count": null,
   "metadata": {},
   "outputs": [],
   "source": [
    "\n",
    "g.add((SDO.identifier, RDFS.subClassOf, RDF.Property))\n",
    "g.add((SDO.identifier, RDFS.domain, SDO.Recipe))\n",
    "g.add((SDO.identifier, RDFS.range, RDFS.Literal))\n",
    "\n",
    "g.add((SDO.name, RDFS.subClassOf, RDF.Property))\n",
    "g.add((SDO.name, RDFS.domain, SDO.Recipe))\n",
    "g.add((SDO.name, RDFS.range, RDFS.Literal))\n",
    "\n",
    "g.add((SDO.cookTime, RDFS.subClassOf, RDF.Property))\n",
    "g.add((SDO.cookTime, RDFS.domain, SDO.Recipe))\n",
    "g.add((SDO.cookTime, RDFS.range, RDFS.Literal))\n",
    "\n",
    "g.add((SDO.prepTime, RDFS.subClassOf, RDF.Property))\n",
    "g.add((SDO.prepTime, RDFS.domain, SDO.Recipe))\n",
    "g.add((SDO.prepTime, RDFS.range, RDFS.Literal))\n",
    "\n",
    "g.add((SDO.datePublished, RDFS.subClassOf, RDF.Property))\n",
    "g.add((SDO.datePublished, RDFS.domain, SDO.Recipe))\n",
    "g.add((SDO.datePublished, RDFS.range, XSD.dateTime))\n",
    "\n",
    "g.add((SDO.image, RDFS.subClassOf, RDF.Property))\n",
    "g.add((SDO.image, RDFS.domain, SDO.Recipe))\n",
    "g.add((SDO.image, RDFS.range,XSD.anyURI))\n",
    "\n",
    "g.add((SDO.recipeCategory, RDFS.subClassOf, RDF.Property))\n",
    "g.add((SDO.recipeCategory, RDFS.domain, SDO.Recipe))\n",
    "g.add((SDO.recipeCategory, RDFS.range, RDFS.Literal))\n",
    "\n",
    "g.add((SDO.keywords, RDFS.subClassOf, RDF.Property))\n",
    "g.add((SDO.keywords, RDFS.domain, SDO.Recipe))\n",
    "g.add((SDO.keywords, RDFS.range, RDFS.Literal))\n",
    "\n",
    "g.add((SDO.recipeIngredient, RDFS.subClassOf, RDF.Property))\n",
    "g.add((SDO.recipeIngredient, RDFS.domain, SDO.Recipe)) \n",
    "g.add((SDO.recipeIngredient, RDFS.range, RDFS.Literal))\n"
   ]
  },
  {
   "cell_type": "markdown",
   "metadata": {},
   "source": [
    "Nutrition Properties"
   ]
  },
  {
   "cell_type": "code",
   "execution_count": null,
   "metadata": {},
   "outputs": [],
   "source": [
    "# Add Nutrition Properties\n",
    "g.add((SDO.name, RDFS.subClassOf, RDF.Property))\n",
    "g.add((SDO.name, RDFS.domain, SDO.NutritionInformation))\n",
    "g.add((SDO.name, RDFS.range, RDFS.Literal))\n",
    "\n",
    "g.add((SDO.calories, RDFS.subClassOf, RDF.Property))\n",
    "g.add((SDO.calories, RDFS.domain, SDO.NutritionInformation))\n",
    "\n",
    "g.add((SDO.fatCount, RDFS.subClassOf, RDF.Property))\n",
    "g.add((SDO.fatCount, RDFS.domain, SDO.NutritionInformation))\n",
    "\n",
    "g.add((SDO.fatContent, RDFS.subClassOf, RDF.Property))\n",
    "g.add((SDO.fatContent, RDFS.domain, SDO.NutritionInformation))\n",
    "\n",
    "g.add((SDO.saturatedFatContent, RDFS.subClassOf, RDF.Property))\n",
    "g.add((SDO.saturatedFatContent, RDFS.domain, SDO.NutritionInformation))\n",
    "\n",
    "g.add((SDO.cholesterolContent, RDFS.subClassOf, RDF.Property))\n",
    "g.add((SDO.cholesterolContent, RDFS.domain, SDO.NutritionInformation))\n",
    "\n",
    "g.add((SDO.sodiumContent, RDFS.subClassOf, RDF.Property))\n",
    "g.add((SDO.sodiumContent, RDFS.domain, SDO.NutritionInformation))\n",
    "\n",
    "g.add((SDO.carbohydrateContent, RDFS.subClassOf, RDF.Property))\n",
    "g.add((SDO.carbohydrateContent, RDFS.domain, SDO.NutritionInformation))\n",
    "\n",
    "g.add((SDO.fiberContent, RDFS.subClassOf, RDF.Property))\n",
    "g.add((SDO.fiberContent, RDFS.domain, SDO.NutritionInformation))\n",
    "\n",
    "g.add((SDO.sugarContent, RDFS.subClassOf, RDF.Property))\n",
    "g.add((SDO.sugarContent, RDFS.domain, SDO.NutritionInformation))\n",
    "\n",
    "g.add((SDO.proteinContent, RDFS.subClassOf, RDF.Property))\n",
    "g.add((SDO.proteinContent, RDFS.domain, SDO.NutritionInformation))"
   ]
  },
  {
   "cell_type": "markdown",
   "metadata": {},
   "source": [
    "Reviews Properties"
   ]
  },
  {
   "cell_type": "code",
   "execution_count": null,
   "metadata": {},
   "outputs": [],
   "source": [
    "# Add Review Properties\n",
    "\n",
    "g.add((SDO.identifier, RDFS.subClassOf, RDF.Property))\n",
    "g.add((SDO.identifier, RDFS.domain, SDO.Review))\n",
    "g.add((SDO.identifier, RDFS.range, RDFS.Literal))\n",
    "\n",
    "recipe = foodnutrition[\"RecipeID\"]\n",
    "g.add((recipe, RDFS.subClassOf, RDF.Property))\n",
    "g.add((recipe, RDFS.domain, SDO.Review))\n",
    "g.add((recipe, RDFS.range, SDO.Recipe))\n",
    "g.add((SDO.reviewBody, RDFS.domain, SDO.Review))\n"
   ]
  },
  {
   "cell_type": "markdown",
   "metadata": {},
   "source": [
    "Restaurant Properties"
   ]
  },
  {
   "cell_type": "code",
   "execution_count": null,
   "metadata": {},
   "outputs": [],
   "source": [
    "#Add Restaurant Properties\n",
    "\n",
    "g.add((SDO.identifier, RDFS.subClassOf, RDF.Property))\n",
    "g.add((SDO.identifier, RDFS.domain, SDO.Restaurant))\n",
    "g.add((SDO.identifier, RDFS.range, RDFS.Literal))\n",
    "\n",
    "g.add((SDO.name, RDFS.subClassOf, RDF.Property))\n",
    "g.add((SDO.name, RDFS.domain, SDO.Restaurant))\n",
    "g.add((SDO.name, RDFS.range, RDFS.Literal))\n",
    "\n",
    "g.add((SDO.Country, RDFS.subClassOf, RDF.Property))\n",
    "g.add((SDO.Country, RDFS.domain, SDO.Restaurant))\n",
    "g.add((SDO.Country, RDFS.range, RDFS.Literal))\n",
    "\n",
    "g.add((SDO.City, RDFS.subClassOf, RDF.Property))\n",
    "g.add((SDO.City, RDFS.domain, SDO.Restaurant))\n",
    "g.add((SDO.City, RDFS.range, RDFS.Literal))\n",
    "\n",
    "g.add((SDO.servesCuisine, RDFS.subClassOf, RDF.Property))\n",
    "g.add((SDO.servesCuisine, RDFS.domain, SDO.Restaurant))\n",
    "g.add((SDO.servesCuisine, RDFS.range, RDFS.Literal))\n",
    "\n",
    "g.add((SDO.DeliveryMethod, RDFS.subClassOf, RDF.Property))\n",
    "g.add((SDO.DeliveryMethod, RDFS.domain, SDO.Restaurant))\n",
    "g.add((SDO.DeliveryMethod, RDFS.range, RDFS.Literal))\n",
    "\n",
    "g.add((SDO.aggregateRating, RDFS.subClassOf, RDF.Property))\n",
    "g.add((SDO.aggregateRating, RDFS.domain, SDO.Restaurant))\n",
    "g.add((SDO.aggregateRating, RDFS.range, RDFS.Literal))\n",
    "\n",
    "g.add((foodnutrition.costForTwo, RDFS.subClassOf, RDF.Property))\n",
    "g.add((foodnutrition.costForTwo, RDFS.domain, SDO.Restaurant))\n",
    "g.add((foodnutrition.costForTwo, RDFS.range, SDO.price))\n"
   ]
  },
  {
   "cell_type": "code",
   "execution_count": null,
   "metadata": {},
   "outputs": [],
   "source": [
    "#Test\n",
    "#print(g.serialize())\n",
    "g.serialize('test.ttl')"
   ]
  },
  {
   "cell_type": "code",
   "execution_count": null,
   "metadata": {},
   "outputs": [],
   "source": [
    "with open(\"Nutrition.csv\", mode='r', newline='', encoding='latin-1') as file:\n",
    "    reader = csv.reader(file, delimiter=';')  # Create a reader object\n",
    "    header = next(reader)  # Read the header row\n",
    "    print(\"Header:\", header)\n",
    "    i = 0\n",
    "\n",
    "    # Read and print each row\n",
    "    for row in reader:\n",
    "        i += 1\n",
    "        #print(row[1])\n",
    "        #TODO: make better ID than i\n",
    "        Nutrition = foodnutrition[\"Nutrition/\" + str(i)]\n",
    "        g.add((Nutrition, RDF.type, SDO.NutritionInformation))\n",
    "        g.set((Nutrition, SDO.name, Literal(row[0], lang='en')))\n",
    "        g.set((Nutrition, SDO.description, Literal(row[1], lang='en')))\n",
    "        g.set((Nutrition, SDO.recipeCategory, Literal(row[2])))\n",
    "        g.set((Nutrition, SDO.calories, Literal(row[3])))\n",
    "        g.set((Nutrition, SDO.fatContent, Literal(row[4])))\n",
    "        g.set((Nutrition, SDO.saturatedFatContent, Literal(row[5])))\n",
    "        g.set((Nutrition, SDO.cholesterolContent, Literal(row[6])))\n",
    "        g.set((Nutrition, SDO.sodiumContent, Literal(row[7])))\n",
    "        g.set((Nutrition, SDO.carbohydrateContent, Literal(row[8])))\n",
    "        g.set((Nutrition, SDO.fiberContent, Literal(row[9])))\n",
    "        g.set((Nutrition, SDO.sugarContent, Literal(row[10])))\n",
    "        g.set((Nutrition, SDO.proteinContent, Literal(row[11])))\n",
    "        \n",
    "        if i == 10: break\n",
    "g.serialize('top10Nutrituion.ttl')"
   ]
  },
  {
   "cell_type": "code",
   "execution_count": null,
   "metadata": {},
   "outputs": [],
   "source": [
    "with open(\"Recipes.csv\", mode='r', newline='', encoding='latin-1') as file:\n",
    "    reader = csv.reader(file, delimiter=';')  # Create a reader object\n",
    "    header = next(reader)  # Read the header row\n",
    "    print(\"Header:\", header)\n",
    "    i = 0\n",
    "\n",
    "    # Read and print each row\n",
    "    for row in reader:\n",
    "        i += 1\n",
    "        Resturant = foodnutrition[\"Recipe/\" + row[0]]\n",
    "        g.add((Resturant, RDF.type, SDO.Recipe))\n",
    "        g.set((Resturant, SDO.name, Literal(row[1], lang='en')))\n",
    "        g.set((Resturant, SDO.cookTime, Literal(row[2])))\n",
    "        g.set((Resturant, SDO.prepTime, Literal(row[3])))\n",
    "        g.set((Resturant, SDO.datePublished, Literal(row[4], datatype=XSD.date)))\n",
    "        g.set((Resturant, SDO.image, Literal(row[5])))\n",
    "        g.set((Resturant, SDO.recipeCategory, Literal(row[6])))\n",
    "        g.set((Resturant, SDO.keywords, Literal(row[7])))\n",
    "        #Quantities and parts\n",
    "\n",
    "        g.set((Resturant, SDO.recipeYield, Literal(row[10])))\n",
    "        #recipe Yield\n",
    "        g.set((Resturant, SDO.recipeInstructions, Literal(row[12])))\n",
    "        \n",
    "        if i == 10: break\n",
    "print(g.serialize('top10Recipes.ttl'))"
   ]
  },
  {
   "cell_type": "code",
   "execution_count": null,
   "metadata": {},
   "outputs": [],
   "source": [
    "## Possible not neccesary because is unstructured, they say............\n",
    "with open(\"Reviews.txt\", mode='r', newline='', encoding='latin-1') as file:\n",
    "    reader = csv.reader(file, delimiter='\\t')  # Create a reader object\n",
    "    header = next(reader)  # Read the header row\n",
    "    print(\"Header:\", header)\n",
    "    i = 0\n",
    "\n",
    "    # Read and print each row\n",
    "    for row in reader:\n",
    "        i += 1\n",
    "        #print(row)\n",
    "\n",
    "        if len(row[0]) == 0: continue\n",
    "\n",
    "        Review = foodnutrition[\"Review/\" + row[0]]\n",
    "        g.add((Review, RDF.type, SDO.Review))\n",
    "        g.set((Review, foodnutrition.reviewId, Literal(row[1])))\n",
    "        g.set((Review, foodnutrition.recipeId, Literal(row[2])))\n",
    "        g.set((Review, foodnutrition.authorId, Literal(row[3])))\n",
    "        g.set((Review, SDO.author, Literal(row[2])))\n",
    "        g.set((Review, SDO.reviewBody, Literal(row[4])))\n",
    "        g.set((Review, SDO.datePublished, Literal(row[5], datatype=XSD.date)))\n",
    "        g.set((Review, SDO.dateModified, Literal(row[6], datatype=XSD.date)))\n",
    "\n",
    "                \n",
    "        if i == 10: break\n",
    "\n",
    "print(g.serialize())"
   ]
  },
  {
   "cell_type": "markdown",
   "metadata": {},
   "source": []
  },
  {
   "cell_type": "code",
   "execution_count": null,
   "metadata": {},
   "outputs": [],
   "source": [
    "with open(\"Restaurants.csv\", mode='r', newline='', encoding='latin-1') as file:\n",
    "    reader = csv.reader(file, delimiter=';')  # Create a reader object\n",
    "    header = next(reader)  # Read the header row\n",
    "    print(\"Header:\", header)\n",
    "    i = 0\n",
    "\n",
    "    # Read and print each row\n",
    "    for row in reader:\n",
    "        i += 1\n",
    "        Resturant = foodnutrition[\"Restaurant/\" + row[0]]\n",
    "        g.add((Resturant, RDF.type, SDO.Restaurant))\n",
    "        g.set((Resturant, SDO.name, Literal(row[1], lang='en')))\n",
    "\n",
    "        g.set((Resturant, SDO.servesCuisine, Literal(row[8], lang='en')))\n",
    "        g.set((Resturant, SDO.currenciesAccepted, Literal(row[9], lang='en')))\n",
    "        g.set((Resturant, SDO.acceptsReservations, Literal(row[10], datatype=XSD.boolean)))\n",
    "        g.set((Resturant, SDO.priceRange, Literal(row[14])))\n",
    "        g.set((Resturant, SDO.aggregateRating, Literal(row[15])))\n",
    "        g.set((Resturant, foodnutrition.votes, Literal(row[18])))\n",
    "\n",
    "        g.set((Resturant, SDO.priceRange, Literal(row[20])))\n",
    " \n",
    "        \n",
    "        if i == 10: break\n",
    "print(g.serialize('top10Restaurants.ttl'))\n"
   ]
  }
 ],
 "metadata": {
  "kernelspec": {
   "display_name": "Python 3",
   "language": "python",
   "name": "python3"
  },
  "language_info": {
   "codemirror_mode": {
    "name": "ipython",
    "version": 3
   },
   "file_extension": ".py",
   "mimetype": "text/x-python",
   "name": "python",
   "nbconvert_exporter": "python",
   "pygments_lexer": "ipython3",
   "version": "3.10.11"
  }
 },
 "nbformat": 4,
 "nbformat_minor": 2
}
