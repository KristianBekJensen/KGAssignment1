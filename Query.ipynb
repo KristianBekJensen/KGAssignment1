{
 "cells": [
  {
   "cell_type": "code",
   "execution_count": 1,
   "metadata": {},
   "outputs": [
    {
     "name": "stdout",
     "output_type": "stream",
     "text": [
      "Turtle file loaded. The graph has 65207 triples.\n"
     ]
    }
   ],
   "source": [
    "# Import necessary libraries\n",
    "import  rdflib\n",
    "from    rdflib import Graph, Namespace, URIRef, Literal, RDF, RDFS, OWL, Literal, URIRef\n",
    "from    rdflib.namespace import FOAF, DCTERMS, XSD, RDF, SDO, RDFS\n",
    "import pyvis\n",
    "from pyvis.network import Network\n",
    "from IPython.display import IFrame\n",
    "\n",
    "# 1. Load the Turtle file into an RDF graph.\n",
    "# Replace 'your_file.ttl' with the path to your Turtle file.\n",
    "g = Graph()\n",
    "\n",
    "rdf     = rdflib.Namespace(\"http://www.w3.org/1999/02/22-rdf-syntax-ns#\")\n",
    "rdfs    = rdflib.Namespace(\"http://www.w3.org/2000/01/rdf-schema#\")\n",
    "gr      = rdflib.Namespace(\"http://purl.org/goodrelations/v1#\")\n",
    "owl     = rdflib.Namespace(\"http://www.w3.org/2002/07/owl#\")\n",
    "\n",
    "dbo     = rdflib.Namespace(\"http://dbpedia.org/ontology/\")\n",
    "dbr     = rdflib.Namespace(\"http://dbpedia.org/resource/\")\n",
    "\n",
    "g.bind(\"schema\", SDO)\n",
    "g.bind(\"dbo\",dbo)\n",
    "g.bind(\"dbr\",dbr)\n",
    "g.bind(\"rdf\", rdf)\n",
    "g.bind(\"rdfs\", rdfs)\n",
    "g.bind(\"gr\", gr)\n",
    "g.bind(\"owl\", owl)\n",
    "g.bind(\"xsd\", XSD)\n",
    "\n",
    "\n",
    "SDO = Namespace(\"https://schema.org/\")\n",
    "g.bind(\"schema\", SDO)\n",
    "\n",
    "g.parse(\"top1000ResNutRec.ttl\", format=\"turtle\")\n",
    "print(\"Turtle file loaded. The graph has {} triples.\".format(len(g)))"
   ]
  },
  {
   "cell_type": "code",
   "execution_count": 2,
   "metadata": {},
   "outputs": [
    {
     "name": "stdout",
     "output_type": "stream",
     "text": [
      " Mango Salsa mango\n",
      " Green Mango Salad With Cilantro Vinaigrette mango\n",
      " Fruit Salsa mango\n"
     ]
    }
   ],
   "source": [
    "#4.1\n",
    "query = \"\"\"\n",
    "PREFIX rdfs: <http://www.w3.org/2000/01/rdf-schema#>\n",
    "PREFIX dbd:\t<http://dbpedia.org/datatype/>\n",
    "PREFIX dbo: <http://dbpedia.org/ontology/>\n",
    "\n",
    "SELECT ?name ?inName\n",
    "WHERE {\n",
    "    ?recipe a schema:Recipe ;\n",
    "      schema:hasPart ?ingredient ;\n",
    "      schema:name ?name .\n",
    "    ?ingredient schema:name ?inName .\n",
    "    FILTER (str(?inName) = \"mango\")\n",
    "}\n",
    "\"\"\"\n",
    "qResult = g.query(query)\n",
    "\n",
    "for row in qResult:\n",
    "    print(f\" {row.name} {row.inName}\")"
   ]
  },
  {
   "cell_type": "code",
   "execution_count": 3,
   "metadata": {},
   "outputs": [
    {
     "name": "stdout",
     "output_type": "stream",
     "text": [
      "There are 30 results\n"
     ]
    }
   ],
   "source": [
    "#4.2\n",
    "query = \"\"\"\n",
    "PREFIX rdfs: <http://www.w3.org/2000/01/rdf-schema#>\n",
    "PREFIX dbd:\t<http://dbpedia.org/datatype/>\n",
    "PREFIX dbo: <http://dbpedia.org/ontology/>\n",
    "\n",
    "SELECT ?recipe ?name ?cooktime\n",
    "WHERE {\n",
    "  ?recipe a schema:Recipe ;\n",
    "      schema:cookTime ?cooktime ;\n",
    "      schema:name ?name;\n",
    "      schema:recipeCategory \"Pie\" .\n",
    "  FILTER( ?cooktime/3600 < 2 )\n",
    "}\n",
    "\"\"\"\n",
    "qResult = g.query(query)\n",
    "\n",
    "print(f\"There are {len(qResult)} results\")\n",
    "#for row in qResult:\n",
    "    #print(f\" {row.recipe} {row.name} {row.cooktime}\")"
   ]
  },
  {
   "cell_type": "code",
   "execution_count": 4,
   "metadata": {},
   "outputs": [
    {
     "name": "stdout",
     "output_type": "stream",
     "text": [
      " http://kg-course/foodnutrition/Restaurant/1775 Bengal Sweet Corner \n",
      " http://kg-course/foodnutrition/Restaurant/18089255 Beijing Street \n",
      " http://kg-course/foodnutrition/Restaurant/18128871 Bhappe Di Hatti \n",
      " http://kg-course/foodnutrition/Restaurant/18237363 Bao Cha \n",
      " http://kg-course/foodnutrition/Restaurant/18244555 Asia Central \n",
      " http://kg-course/foodnutrition/Restaurant/18261158 Bemisaal Reloaded \n",
      " http://kg-course/foodnutrition/Restaurant/18268367 Aashirwad Restaurant \n",
      " http://kg-course/foodnutrition/Restaurant/18279452 Beijing Street \n",
      " http://kg-course/foodnutrition/Restaurant/18430600 Bangla Sweets \n",
      " http://kg-course/foodnutrition/Restaurant/18455557 All Day 99 \n",
      " http://kg-course/foodnutrition/Restaurant/18458332 AOWLS \n",
      " http://kg-course/foodnutrition/Restaurant/1914 Bhimsain's Bengali Sweet House \n",
      " http://kg-course/foodnutrition/Restaurant/2295 Aroma Rest O Bar \n",
      " http://kg-course/foodnutrition/Restaurant/300275 Anupam Restaurant \n",
      " http://kg-course/foodnutrition/Restaurant/300430 Bake Bikaner \n",
      " http://kg-course/foodnutrition/Restaurant/300862 Bakery Wala - The Cake Shop \n",
      " http://kg-course/foodnutrition/Restaurant/301227 Ada \"e\" Haandi's \n",
      " http://kg-course/foodnutrition/Restaurant/302715 Basil Tree \n",
      " http://kg-course/foodnutrition/Restaurant/306245 Above & Beyond \n",
      " http://kg-course/foodnutrition/Restaurant/306491 Annapurna Restaurant \n",
      " http://kg-course/foodnutrition/Restaurant/307767 Bell Pepperz \n",
      " http://kg-course/foodnutrition/Restaurant/307989 Ananda Food Express \n",
      " http://kg-course/foodnutrition/Restaurant/3086 Berco's \n",
      " http://kg-course/foodnutrition/Restaurant/310344 Aviram's Chinese Kitchen \n",
      " http://kg-course/foodnutrition/Restaurant/310491 4 on 44 Restaurant & Bar \n",
      " http://kg-course/foodnutrition/Restaurant/310848 Beliram Degchiwala \n",
      " http://kg-course/foodnutrition/Restaurant/312172 Apna Swad \n",
      " http://kg-course/foodnutrition/Restaurant/312920 Ada'e Handi \n",
      " http://kg-course/foodnutrition/Restaurant/313146 Ben's Foods \n",
      " http://kg-course/foodnutrition/Restaurant/313175 Aromas of Pind \n",
      " http://kg-course/foodnutrition/Restaurant/313185 Angrezee Dhaba \n",
      " http://kg-course/foodnutrition/Restaurant/313311 All About Food \n",
      " http://kg-course/foodnutrition/Restaurant/3135 Barbeque Creation By Kadhai Tadka \n",
      " http://kg-course/foodnutrition/Restaurant/3252 Apni Rasoi \n",
      " http://kg-course/foodnutrition/Restaurant/3362 361 Restaurant & Banquet \n",
      " http://kg-course/foodnutrition/Restaurant/357 Bemisaal \n",
      " http://kg-course/foodnutrition/Restaurant/4830 Berco's \n",
      " http://kg-course/foodnutrition/Restaurant/53 Amber \n",
      " http://kg-course/foodnutrition/Restaurant/55 Berco's \n",
      " http://kg-course/foodnutrition/Restaurant/6481 Apsara Restaurant \n",
      " http://kg-course/foodnutrition/Restaurant/703 August Moon \n",
      " http://kg-course/foodnutrition/Restaurant/7066 Berco's \n",
      " http://kg-course/foodnutrition/Restaurant/7217 Asia Kitchen \n",
      " http://kg-course/foodnutrition/Restaurant/7547 Ada e Handi Restaurant \n",
      " http://kg-course/foodnutrition/Restaurant/769 Adyar Ananda Bhavan \n",
      " http://kg-course/foodnutrition/Restaurant/7713 Ardor 2.1 \n",
      " http://kg-course/foodnutrition/Restaurant/7856 Aggarwal Sweet Corner \n",
      " http://kg-course/foodnutrition/Restaurant/823 Al Kuresh \n",
      " http://kg-course/foodnutrition/Restaurant/8959 Asian Haus \n"
     ]
    }
   ],
   "source": [
    "#4.3\n",
    "query = \"\"\"\n",
    "PREFIX rdfs: <http://www.w3.org/2000/01/rdf-schema#>\n",
    "PREFIX dbd:\t<http://dbpedia.org/datatype/>\n",
    "PREFIX dbo: <http://dbpedia.org/ontology/>\n",
    "\n",
    "SELECT ?resturant ?name\n",
    "WHERE {\n",
    "  ?resturant a schema:Restaurant ;\n",
    "      schema:name ?name;\n",
    "      schema:City \"New Delhi\";\n",
    "      schema:servesCuisine \"Chinese\";\n",
    "      schema:DeliveryMethod \"1\" .\n",
    "}\n",
    "\"\"\"\n",
    "qResult = g.query(query)\n",
    "\n",
    "for row in qResult:\n",
    "    print(f\" {row.resturant} {row.name} \")"
   ]
  },
  {
   "cell_type": "code",
   "execution_count": 5,
   "metadata": {},
   "outputs": [
    {
     "name": "stdout",
     "output_type": "stream",
     "text": [
      " 0 \n"
     ]
    }
   ],
   "source": [
    "#4.4\n",
    "query = \"\"\"\n",
    "PREFIX rdfs: <http://www.w3.org/2000/01/rdf-schema#>\n",
    "PREFIX dbd:\t<http://dbpedia.org/datatype/>\n",
    "PREFIX dbo: <http://dbpedia.org/ontology/>\n",
    "\n",
    "SELECT (AVG(?price) AS ?avgPrice)\n",
    "WHERE {\n",
    "  ?resturant a schema:Restaurant ;\n",
    "      schema:name ?name;\n",
    "      schema:City \"Davenport\";\n",
    "      schema:servesCuisine \"Asian\"; \n",
    "      foodnutrition:costForTwo ?price .\n",
    "      BIND( (xsd:double(?price)) AS ?price)\n",
    "}\n",
    "\"\"\"\n",
    "#find a list of all asian cusines\n",
    "qResult = g.query(query)\n",
    "\n",
    "for row in qResult:\n",
    "    print(f\" {row.avgPrice} \")"
   ]
  },
  {
   "cell_type": "code",
   "execution_count": 6,
   "metadata": {},
   "outputs": [],
   "source": [
    "#4.5\n",
    "query = \"\"\"\n",
    "PREFIX rdfs: <http://www.w3.org/2000/01/rdf-schema#>\n",
    "PREFIX dbd:\t<http://dbpedia.org/datatype/>\n",
    "PREFIX dbo: <http://dbpedia.org/ontology/>\n",
    "\n",
    "SELECT DISTINCT ?date ?recipe ?name ?img \n",
    "WHERE {\n",
    "  ?recipe a schema:Recipe ;\n",
    "        schema:name ?name;\n",
    "        schema:image ?img ;\n",
    "        schema:keywords \"Easy\";\n",
    "        schema:recipeCategory \"Dessert\" ;\n",
    "        schema:datePublished ?date .\n",
    "    ?nutrition a schema:NutritionInformation;\n",
    "        schema:name ?name;\n",
    "        schema:calories ?cal .\n",
    "    FILTER (?date >= \"2000-01-01\"^^xsd:date)\n",
    "    FILTER (str(?img) != \"character(0)\") .\n",
    "} \n",
    "ORDER BY (?cal)\n",
    "Limit 5\n",
    "\"\"\"\n",
    "qResult = g.query(query)\n",
    "\n",
    "for row in qResult:\n",
    "    print(f\" {row.date} {row.recipe} {row.name} {row.img}\")"
   ]
  },
  {
   "cell_type": "code",
   "execution_count": 12,
   "metadata": {},
   "outputs": [
    {
     "name": "stdout",
     "output_type": "stream",
     "text": [
      "  Strawberry Lemonade \n",
      "  Cafe Diablo \n",
      "  Chocolate Coffee \n",
      "  Kahlua \n",
      "  Killer Kahlua \n",
      "  Cocoa Espresso Cooler \n",
      "  Iced Jazzberry Java \n",
      "  Best Lemonade \n",
      "  Iced Cafe Au Lait \n",
      "  Creamy Iced Coffee \n"
     ]
    }
   ],
   "source": [
    "#4.6\n",
    "query = \"\"\"\n",
    "PREFIX rdfs: <http://www.w3.org/2000/01/rdf-schema#>\n",
    "PREFIX dbd:\t<http://dbpedia.org/datatype/>\n",
    "PREFIX dbo: <http://dbpedia.org/ontology/>\n",
    "\n",
    "SELECT Distinct ?name\n",
    "WHERE {\n",
    "  ?recipe a schema:Recipe ;\n",
    "      schema:name ?name ;\n",
    "      schema:recipeCategory \"Beverages\" .\n",
    "}\n",
    "LIMIT 10\n",
    "\"\"\"\n",
    "qResult = g.query(query)\n",
    "\n",
    "for row in qResult:\n",
    "    print(f\"  {row.name} \")"
   ]
  },
  {
   "cell_type": "code",
   "execution_count": null,
   "metadata": {},
   "outputs": [
    {
     "ename": "ParseException",
     "evalue": "Expected {SelectQuery | ConstructQuery | DescribeQuery | AskQuery}, found '?'  (at char 177), (line:8, col:3)",
     "output_type": "error",
     "traceback": [
      "\u001b[1;31m---------------------------------------------------------------------------\u001b[0m",
      "\u001b[1;31mParseException\u001b[0m                            Traceback (most recent call last)",
      "Cell \u001b[1;32mIn[10], line 13\u001b[0m\n\u001b[0;32m      1\u001b[0m \u001b[38;5;66;03m#4.7\u001b[39;00m\n\u001b[0;32m      2\u001b[0m query \u001b[38;5;241m=\u001b[39m \u001b[38;5;124m\"\"\"\u001b[39m\n\u001b[0;32m      3\u001b[0m \u001b[38;5;124mPREFIX rdfs: <http://www.w3.org/2000/01/rdf-schema#>\u001b[39m\n\u001b[0;32m      4\u001b[0m \u001b[38;5;124mPREFIX dbd:\t<http://dbpedia.org/datatype/>\u001b[39m\n\u001b[1;32m   (...)\u001b[0m\n\u001b[0;32m     11\u001b[0m \u001b[38;5;124m}\u001b[39m\n\u001b[0;32m     12\u001b[0m \u001b[38;5;124m\"\"\"\u001b[39m\n\u001b[1;32m---> 13\u001b[0m qResult \u001b[38;5;241m=\u001b[39m g\u001b[38;5;241m.\u001b[39mquery(query)\n\u001b[0;32m     15\u001b[0m \u001b[38;5;28;01mfor\u001b[39;00m row \u001b[38;5;129;01min\u001b[39;00m qResult:\n\u001b[0;32m     16\u001b[0m     \u001b[38;5;28mprint\u001b[39m(\u001b[38;5;124mf\u001b[39m\u001b[38;5;124m\"\u001b[39m\u001b[38;5;124m  \u001b[39m\u001b[38;5;132;01m{\u001b[39;00mrow\u001b[38;5;241m.\u001b[39mname\u001b[38;5;132;01m}\u001b[39;00m\u001b[38;5;124m \u001b[39m\u001b[38;5;124m\"\u001b[39m)\n",
      "File \u001b[1;32m~\\AppData\\Roaming\\Python\\Python312\\site-packages\\rdflib\\graph.py:1621\u001b[0m, in \u001b[0;36mGraph.query\u001b[1;34m(self, query_object, processor, result, initNs, initBindings, use_store_provided, **kwargs)\u001b[0m\n\u001b[0;32m   1618\u001b[0m     processor \u001b[38;5;241m=\u001b[39m plugin\u001b[38;5;241m.\u001b[39mget(processor, query\u001b[38;5;241m.\u001b[39mProcessor)(\u001b[38;5;28mself\u001b[39m)\n\u001b[0;32m   1620\u001b[0m \u001b[38;5;66;03m# type error: Argument 1 to \"Result\" has incompatible type \"Mapping[str, Any]\"; expected \"str\"\u001b[39;00m\n\u001b[1;32m-> 1621\u001b[0m \u001b[38;5;28;01mreturn\u001b[39;00m result(processor\u001b[38;5;241m.\u001b[39mquery(query_object, initBindings, initNs, \u001b[38;5;241m*\u001b[39m\u001b[38;5;241m*\u001b[39mkwargs))\n",
      "File \u001b[1;32m~\\AppData\\Roaming\\Python\\Python312\\site-packages\\rdflib\\plugins\\sparql\\processor.py:145\u001b[0m, in \u001b[0;36mSPARQLProcessor.query\u001b[1;34m(self, strOrQuery, initBindings, initNs, base, DEBUG)\u001b[0m\n\u001b[0;32m    125\u001b[0m \u001b[38;5;250m\u001b[39m\u001b[38;5;124;03m\"\"\"\u001b[39;00m\n\u001b[0;32m    126\u001b[0m \u001b[38;5;124;03mEvaluate a query with the given initial bindings, and initial\u001b[39;00m\n\u001b[0;32m    127\u001b[0m \u001b[38;5;124;03mnamespaces. The given base is used to resolve relative URIs in\u001b[39;00m\n\u001b[1;32m   (...)\u001b[0m\n\u001b[0;32m    141\u001b[0m \u001b[38;5;124;03m   documentation.\u001b[39;00m\n\u001b[0;32m    142\u001b[0m \u001b[38;5;124;03m\"\"\"\u001b[39;00m\n\u001b[0;32m    144\u001b[0m \u001b[38;5;28;01mif\u001b[39;00m \u001b[38;5;28misinstance\u001b[39m(strOrQuery, \u001b[38;5;28mstr\u001b[39m):\n\u001b[1;32m--> 145\u001b[0m     strOrQuery \u001b[38;5;241m=\u001b[39m translateQuery(parseQuery(strOrQuery), base, initNs)\n\u001b[0;32m    147\u001b[0m \u001b[38;5;28;01mreturn\u001b[39;00m evalQuery(\u001b[38;5;28mself\u001b[39m\u001b[38;5;241m.\u001b[39mgraph, strOrQuery, initBindings, base)\n",
      "File \u001b[1;32m~\\AppData\\Roaming\\Python\\Python312\\site-packages\\rdflib\\plugins\\sparql\\parser.py:1553\u001b[0m, in \u001b[0;36mparseQuery\u001b[1;34m(q)\u001b[0m\n\u001b[0;32m   1550\u001b[0m     q \u001b[38;5;241m=\u001b[39m q\u001b[38;5;241m.\u001b[39mdecode(\u001b[38;5;124m\"\u001b[39m\u001b[38;5;124mutf-8\u001b[39m\u001b[38;5;124m\"\u001b[39m)\n\u001b[0;32m   1552\u001b[0m q \u001b[38;5;241m=\u001b[39m expandUnicodeEscapes(q)\n\u001b[1;32m-> 1553\u001b[0m \u001b[38;5;28;01mreturn\u001b[39;00m Query\u001b[38;5;241m.\u001b[39mparseString(q, parseAll\u001b[38;5;241m=\u001b[39m\u001b[38;5;28;01mTrue\u001b[39;00m)\n",
      "File \u001b[1;32md:\\Anaconda\\Lib\\site-packages\\pyparsing\\core.py:1141\u001b[0m, in \u001b[0;36mParserElement.parse_string\u001b[1;34m(self, instring, parse_all, parseAll)\u001b[0m\n\u001b[0;32m   1138\u001b[0m         \u001b[38;5;28;01mraise\u001b[39;00m\n\u001b[0;32m   1139\u001b[0m     \u001b[38;5;28;01melse\u001b[39;00m:\n\u001b[0;32m   1140\u001b[0m         \u001b[38;5;66;03m# catch and re-raise exception from here, clearing out pyparsing internal stack trace\u001b[39;00m\n\u001b[1;32m-> 1141\u001b[0m         \u001b[38;5;28;01mraise\u001b[39;00m exc\u001b[38;5;241m.\u001b[39mwith_traceback(\u001b[38;5;28;01mNone\u001b[39;00m)\n\u001b[0;32m   1142\u001b[0m \u001b[38;5;28;01melse\u001b[39;00m:\n\u001b[0;32m   1143\u001b[0m     \u001b[38;5;28;01mreturn\u001b[39;00m tokens\n",
      "\u001b[1;31mParseException\u001b[0m: Expected {SelectQuery | ConstructQuery | DescribeQuery | AskQuery}, found '?'  (at char 177), (line:8, col:3)"
     ]
    }
   ],
   "source": [
    "#4.7\n",
    "query = \"\"\"\n",
    "PREFIX rdfs: <http://www.w3.org/2000/01/rdf-schema#>\n",
    "PREFIX dbd:\t<http://dbpedia.org/datatype/>\n",
    "PREFIX dbo: <http://dbpedia.org/ontology/>\n",
    "\n",
    "SELECT DISTINCT ?name\n",
    "WHERE {\n",
    "  ?resturant a schema: ;\n",
    "      schema:recipeCategory ?name;\n",
    "}\n",
    "\"\"\"\n",
    "qResult = g.query(query)\n",
    "\n",
    "for row in qResult:\n",
    "    print(f\"  {row.name} \")"
   ]
  },
  {
   "cell_type": "code",
   "execution_count": null,
   "metadata": {},
   "outputs": [],
   "source": [
    "#4.8\n",
    "query = \"\"\"\n",
    "PREFIX rdfs: <http://www.w3.org/2000/01/rdf-schema#>\n",
    "PREFIX dbd:\t<http://dbpedia.org/datatype/>\n",
    "PREFIX dbo: <http://dbpedia.org/ontology/>\n",
    "\n",
    "SELECT DISTINCT ?name\n",
    "WHERE {\n",
    "  ? a schema: ;\n",
    "      schema:recipeCategory ?name;\n",
    "}\n",
    "\"\"\"\n",
    "qResult = g.query(query)\n",
    "\n",
    "for row in qResult:\n",
    "    print(f\"  {row.name} \")"
   ]
  }
 ],
 "metadata": {
  "kernelspec": {
   "display_name": "base",
   "language": "python",
   "name": "python3"
  },
  "language_info": {
   "codemirror_mode": {
    "name": "ipython",
    "version": 3
   },
   "file_extension": ".py",
   "mimetype": "text/x-python",
   "name": "python",
   "nbconvert_exporter": "python",
   "pygments_lexer": "ipython3",
   "version": "3.12.4"
  }
 },
 "nbformat": 4,
 "nbformat_minor": 2
}
