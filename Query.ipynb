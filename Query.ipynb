{
 "cells": [
  {
   "cell_type": "code",
   "execution_count": null,
   "metadata": {},
   "outputs": [],
   "source": [
    "# Import necessary libraries\n",
    "import  rdflib\n",
    "from    rdflib import Graph, Namespace, URIRef, Literal, RDF, RDFS, OWL, Literal, URIRef\n",
    "from    rdflib.namespace import FOAF, DCTERMS, XSD, RDF, SDO, RDFS\n",
    "import pyvis\n",
    "from pyvis.network import Network\n",
    "from IPython.display import IFrame\n",
    "\n",
    "# 1. Load the Turtle file into an RDF graph.\n",
    "# Replace 'your_file.ttl' with the path to your Turtle file.\n",
    "g = Graph()\n",
    "\n",
    "rdf     = rdflib.Namespace(\"http://www.w3.org/1999/02/22-rdf-syntax-ns#\")\n",
    "rdfs    = rdflib.Namespace(\"http://www.w3.org/2000/01/rdf-schema#\")\n",
    "gr      = rdflib.Namespace(\"http://purl.org/goodrelations/v1#\")\n",
    "owl     = rdflib.Namespace(\"http://www.w3.org/2002/07/owl#\")\n",
    "\n",
    "dbo     = rdflib.Namespace(\"http://dbpedia.org/ontology/\")\n",
    "dbr     = rdflib.Namespace(\"http://dbpedia.org/resource/\")\n",
    "\n",
    "g.bind(\"schema\", SDO)\n",
    "g.bind(\"dbo\",dbo)\n",
    "g.bind(\"dbr\",dbr)\n",
    "g.bind(\"rdf\", rdf)\n",
    "g.bind(\"rdfs\", rdfs)\n",
    "g.bind(\"gr\", gr)\n",
    "g.bind(\"owl\", owl)\n",
    "g.bind(\"xsd\", XSD)\n",
    "\n",
    "\n",
    "SDO = Namespace(\"https://schema.org/\")\n",
    "g.bind(\"schema\", SDO)\n",
    "\n",
    "g.parse(\"top10Recipes.ttl\", format=\"turtle\")\n",
    "print(\"Turtle file loaded. The graph has {} triples.\".format(len(g)))"
   ]
  },
  {
   "cell_type": "code",
   "execution_count": null,
   "metadata": {},
   "outputs": [],
   "source": [
    "#4.2\n",
    "query = \"\"\"\n",
    "PREFIX rdfs: <http://www.w3.org/2000/01/rdf-schema#>\n",
    "PREFIX dbd:\t<http://dbpedia.org/datatype/>\n",
    "PREFIX dbo: <http://dbpedia.org/ontology/>\n",
    "\n",
    "SELECT DISTINCT ?recipe\n",
    "WHERE {\n",
    "  ?recipe a schema:recipe ;\n",
    "      schema.cookTime ?cookTime .\n",
    "  Filter (?cookTime/3600 < 2)\n",
    "\n",
    "}\n",
    "\"\"\"\n",
    "\n",
    "qResult = g.query(query)\n",
    "\n",
    "for row in qResult:\n",
    "    print(f\" {row.recipe}\")"
   ]
  }
 ],
 "metadata": {
  "kernelspec": {
   "display_name": "base",
   "language": "python",
   "name": "python3"
  },
  "language_info": {
   "codemirror_mode": {
    "name": "ipython",
    "version": 3
   },
   "file_extension": ".py",
   "mimetype": "text/x-python",
   "name": "python",
   "nbconvert_exporter": "python",
   "pygments_lexer": "ipython3",
   "version": "3.12.4"
  }
 },
 "nbformat": 4,
 "nbformat_minor": 2
}
