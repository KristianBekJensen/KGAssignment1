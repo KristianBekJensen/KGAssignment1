{
  "cells": [
    {
      "cell_type": "markdown",
      "metadata": {},
      "source": [
        "# 📘 KG course SPARQL notebook\n",
        "\n",
        "A notebook to run SPARQL queries for the KG course at UM DACS.\n",
        "\n",
        "1. Update the `g.parse()` calls in the first cell to import your RDF files.\n",
        "2. In the same folder as the notebook create files with your SPARQL queries (e.g. `q1.rq`), and execute them with `run_query(g, 'q1.rq')`\n",
        "\n",
        "Use the `.rq` file extension to get SPARQL syntax coloration"
      ]
    },
    {
      "cell_type": "code",
      "execution_count": 1,
      "metadata": {},
      "outputs": [
        {
          "name": "stdout",
          "output_type": "stream",
          "text": [
            "Defaulting to user installation because normal site-packages is not writeable\n",
            "Requirement already satisfied: pandas in d:\\anaconda\\lib\\site-packages (2.2.2)\n",
            "Collecting oxrdflib\n",
            "  Downloading oxrdflib-0.4.0-py3-none-any.whl.metadata (6.5 kB)\n",
            "Requirement already satisfied: Pygments in d:\\anaconda\\lib\\site-packages (2.15.1)\n",
            "Requirement already satisfied: numpy>=1.26.0 in d:\\anaconda\\lib\\site-packages (from pandas) (1.26.4)\n",
            "Requirement already satisfied: python-dateutil>=2.8.2 in d:\\anaconda\\lib\\site-packages (from pandas) (2.9.0.post0)\n",
            "Requirement already satisfied: pytz>=2020.1 in d:\\anaconda\\lib\\site-packages (from pandas) (2024.1)\n",
            "Requirement already satisfied: tzdata>=2022.7 in d:\\anaconda\\lib\\site-packages (from pandas) (2023.3)\n",
            "Collecting pyoxigraph~=0.4.2 (from oxrdflib)\n",
            "  Downloading pyoxigraph-0.4.7-cp38-abi3-win_amd64.whl.metadata (5.6 kB)\n",
            "Requirement already satisfied: rdflib<8.0,>=6.3 in c:\\users\\kristian\\appdata\\roaming\\python\\python312\\site-packages (from oxrdflib) (7.1.3)\n",
            "Requirement already satisfied: six>=1.5 in d:\\anaconda\\lib\\site-packages (from python-dateutil>=2.8.2->pandas) (1.16.0)\n",
            "Requirement already satisfied: pyparsing<4,>=2.1.0 in d:\\anaconda\\lib\\site-packages (from rdflib<8.0,>=6.3->oxrdflib) (3.0.9)\n",
            "Downloading oxrdflib-0.4.0-py3-none-any.whl (10 kB)\n",
            "Downloading pyoxigraph-0.4.7-cp38-abi3-win_amd64.whl (4.8 MB)\n",
            "   ---------------------------------------- 0.0/4.8 MB ? eta -:--:--\n",
            "   - -------------------------------------- 0.2/4.8 MB 4.6 MB/s eta 0:00:01\n",
            "   --- ------------------------------------ 0.5/4.8 MB 7.1 MB/s eta 0:00:01\n",
            "   ------- -------------------------------- 0.9/4.8 MB 7.0 MB/s eta 0:00:01\n",
            "   -------- ------------------------------- 1.0/4.8 MB 7.4 MB/s eta 0:00:01\n",
            "   ----------- ---------------------------- 1.4/4.8 MB 6.4 MB/s eta 0:00:01\n",
            "   ----------------- ---------------------- 2.0/4.8 MB 7.7 MB/s eta 0:00:01\n",
            "   ----------------- ---------------------- 2.1/4.8 MB 6.4 MB/s eta 0:00:01\n",
            "   ---------------------- ----------------- 2.7/4.8 MB 7.6 MB/s eta 0:00:01\n",
            "   -------------------------- ------------- 3.1/4.8 MB 8.0 MB/s eta 0:00:01\n",
            "   ---------------------------- ----------- 3.4/4.8 MB 7.5 MB/s eta 0:00:01\n",
            "   ---------------------------------- ----- 4.1/4.8 MB 8.1 MB/s eta 0:00:01\n",
            "   ----------------------------------- ---- 4.2/4.8 MB 8.1 MB/s eta 0:00:01\n",
            "   -------------------------------------- - 4.6/4.8 MB 7.6 MB/s eta 0:00:01\n",
            "   ---------------------------------------  4.8/4.8 MB 7.8 MB/s eta 0:00:01\n",
            "   ---------------------------------------  4.8/4.8 MB 7.8 MB/s eta 0:00:01\n",
            "   ---------------------------------------- 4.8/4.8 MB 6.8 MB/s eta 0:00:00\n",
            "Installing collected packages: pyoxigraph, oxrdflib\n",
            "Successfully installed oxrdflib-0.4.0 pyoxigraph-0.4.7\n",
            "Working with 0 triples\n"
          ]
        }
      ],
      "source": [
        "import sys\n",
        "!{sys.executable} -m pip install pandas oxrdflib Pygments\n",
        "\n",
        "import pandas as pd\n",
        "from IPython.display import display, HTML\n",
        "from pygments import highlight\n",
        "from pygments.lexers import SparqlLexer\n",
        "from pygments.formatters import HtmlFormatter\n",
        "from rdflib import Graph\n",
        "\n",
        "def run_query(graph, query_path):\n",
        "    try:\n",
        "        with open(query_path, 'r') as file:\n",
        "            query = file.read()\n",
        "    except Exception as _e:\n",
        "        print(f\"No file for {query_path}\")\n",
        "        return\n",
        "    results = graph.query(query)\n",
        "    # Display the SPARQL query\n",
        "    formatted_query = highlight(query, SparqlLexer(), HtmlFormatter(style='solarized-dark', full=True, nobackground=True))\n",
        "    display(HTML(formatted_query))\n",
        "    # Convert results to a Pandas DataFrame\n",
        "    res_list = []\n",
        "    for row in results:\n",
        "        res_list.append([str(item) for item in row])\n",
        "    df = pd.DataFrame(res_list, columns=[str(var) for var in results.vars]) if len(res_list) > 0 else pd.DataFrame()\n",
        "    # Display the DataFrame as a table in Jupyter Notebook\n",
        "    display(HTML(df.to_html()))\n",
        "\n",
        "g = Graph(store=\"Oxigraph\")\n",
        "\n",
        "# TODO: modify/add paths to your RDF files\n",
        "# g.parse(\"./climate_kg_ontology.ttl\")\n",
        "# g.parse(\"./climate_kg.ttl\")\n",
        "\n",
        "print(f\"Working with {len(g)} triples\")"
      ]
    },
    {
      "cell_type": "markdown",
      "metadata": {
        "id": "m0DZTaC1zEnL"
      },
      "source": [
        "1. Find recipes that are risky for individuals allergic to mango."
      ]
    },
    {
      "cell_type": "code",
      "execution_count": 2,
      "metadata": {
        "id": "8z0XtdvE0UJh"
      },
      "outputs": [
        {
          "name": "stdout",
          "output_type": "stream",
          "text": [
            "No file for q1.rq\n"
          ]
        }
      ],
      "source": [
        "run_query(g, 'q1.rq')"
      ]
    },
    {
      "cell_type": "markdown",
      "metadata": {
        "id": "bHVShz3PzEnM"
      },
      "source": [
        "2. List all pies tagged as 'healthy' with a total cooking time of less than 2 hours."
      ]
    },
    {
      "cell_type": "code",
      "execution_count": 3,
      "metadata": {
        "id": "91yChlwL0ZAk"
      },
      "outputs": [
        {
          "name": "stdout",
          "output_type": "stream",
          "text": [
            "No file for q2.rq\n"
          ]
        }
      ],
      "source": [
        "run_query(g, 'q2.rq')"
      ]
    },
    {
      "cell_type": "markdown",
      "metadata": {
        "id": "NSdc5E5fzEnM"
      },
      "source": [
        "3. List all restaurants in New Delhi that serve Chinese cuisine and offer online delivery."
      ]
    },
    {
      "cell_type": "code",
      "execution_count": 4,
      "metadata": {
        "id": "hpc8h2MG0a0O"
      },
      "outputs": [
        {
          "name": "stdout",
          "output_type": "stream",
          "text": [
            "No file for q3.rq\n"
          ]
        }
      ],
      "source": [
        "run_query(g, 'q3.rq')"
      ]
    },
    {
      "cell_type": "markdown",
      "metadata": {
        "id": "KSlertqMzEnN"
      },
      "source": [
        "4. Find the average cost of two dining at restaurants in Davenport that serve Asian food."
      ]
    },
    {
      "cell_type": "code",
      "execution_count": 5,
      "metadata": {
        "id": "2TxW0uHV0chO"
      },
      "outputs": [
        {
          "name": "stdout",
          "output_type": "stream",
          "text": [
            "No file for q4.rq\n"
          ]
        }
      ],
      "source": [
        "run_query(g, 'q4.rq')"
      ]
    },
    {
      "cell_type": "markdown",
      "metadata": {
        "id": "u-Nxlgi0zEnN"
      },
      "source": [
        "5. Recommend the top 5 desserts published after 2000 that are labeled as ‘Easy’ and low in calories, along with their images."
      ]
    },
    {
      "cell_type": "code",
      "execution_count": 6,
      "metadata": {
        "id": "4DnJopBE0eVE"
      },
      "outputs": [
        {
          "name": "stdout",
          "output_type": "stream",
          "text": [
            "No file for q5.rq\n"
          ]
        }
      ],
      "source": [
        "run_query(g, 'q5.rq')"
      ]
    },
    {
      "cell_type": "markdown",
      "metadata": {
        "id": "13rOk3L4zEnO"
      },
      "source": [
        "6. Identify the top 10 highly-rated beverages, including their preparation time and sugar content."
      ]
    },
    {
      "cell_type": "code",
      "execution_count": 7,
      "metadata": {
        "id": "-DBhC0d00gyT"
      },
      "outputs": [
        {
          "name": "stdout",
          "output_type": "stream",
          "text": [
            "No file for q6.rq\n"
          ]
        }
      ],
      "source": [
        "run_query(g, 'q6.rq')"
      ]
    },
    {
      "cell_type": "markdown",
      "metadata": {
        "id": "rWB9yFshzEnO"
      },
      "source": [
        "7. Identify the highest-rated recipes containing protein-rich ingredients and check if their corresponding cuisines are commonly available in the USA restaurants."
      ]
    },
    {
      "cell_type": "code",
      "execution_count": 8,
      "metadata": {
        "id": "VWIxBs-F0jtn"
      },
      "outputs": [
        {
          "name": "stdout",
          "output_type": "stream",
          "text": [
            "No file for q7.rq\n"
          ]
        }
      ],
      "source": [
        "run_query(g, 'q7.rq')"
      ]
    },
    {
      "cell_type": "markdown",
      "metadata": {
        "id": "cojwCmJszEnP"
      },
      "source": [
        "8. Find the top 5 healthiest recipes based on a nutrition density score (NDS), along with their average sentiment from reviews. Check if restaurants serve cuisines linked to these recipes and retrieve their aggregate restaurant ratings."
      ]
    },
    {
      "cell_type": "code",
      "execution_count": 9,
      "metadata": {
        "id": "5IH65HhT0mLR"
      },
      "outputs": [
        {
          "name": "stdout",
          "output_type": "stream",
          "text": [
            "No file for q8.rq\n"
          ]
        }
      ],
      "source": [
        "run_query(g, 'q8.rq')"
      ]
    }
  ],
  "metadata": {
    "colab": {
      "provenance": []
    },
    "kernelspec": {
      "display_name": "base",
      "language": "python",
      "name": "python3"
    },
    "language_info": {
      "codemirror_mode": {
        "name": "ipython",
        "version": 3
      },
      "file_extension": ".py",
      "mimetype": "text/x-python",
      "name": "python",
      "nbconvert_exporter": "python",
      "pygments_lexer": "ipython3",
      "version": "3.12.4"
    }
  },
  "nbformat": 4,
  "nbformat_minor": 0
}
