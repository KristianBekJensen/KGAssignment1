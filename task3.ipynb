{
 "cells": [
  {
   "cell_type": "code",
   "execution_count": null,
   "metadata": {},
   "outputs": [],
   "source": [
    "import  csv\n",
    "import  rdflib\n",
    "from    rdflib import Graph, Namespace, URIRef, Literal, RDF, RDFS, OWL, URIRef\n",
    "from    rdflib.namespace import FOAF, DCTERMS, XSD, RDF, SDO, RDFS\n",
    "\n",
    "g = Graph()\n",
    "foodnutrition = Namespace('http://kg-course/foodnutrition/')\n",
    "# Define namespaces\n",
    "g.bind(\"foodnutrition\", foodnutrition)\n"
   ]
  },
  {
   "cell_type": "markdown",
   "metadata": {},
   "source": [
    "## 1. Add Classes and Properties"
   ]
  },
  {
   "cell_type": "code",
   "execution_count": null,
   "metadata": {},
   "outputs": [],
   "source": [
    "#Add Classes\n",
    "g.add((SDO.Recipe, RDFS.subClassOf, OWL.Thing))\n",
    "g.add((SDO.Restaurant, RDFS.subClassOf, OWL.Thing))\n",
    "g.add((SDO.NutritionInformation, RDFS.subClassOf, OWL.Thing))\n",
    "g.add((SDO.Review, RDFS.subClassOf, OWL.Thing))"
   ]
  },
  {
   "cell_type": "markdown",
   "metadata": {},
   "source": [
    "Recipe Properties"
   ]
  },
  {
   "cell_type": "code",
   "execution_count": null,
   "metadata": {},
   "outputs": [],
   "source": [
    "g.add((SDO.identifier, RDFS.domain, SDO.Recipe))\n",
    "g.add((SDO.name, RDFS.domain, SDO.Recipe))\n",
    "g.add((SDO.cookTime, RDFS.domain, SDO.Recipe))\n",
    "g.add((SDO.prepTime, RDFS.domain, SDO.Recipe))\n",
    "g.add((SDO.datePublished, RDFS.domain, SDO.Recipe))\n",
    "g.add((SDO.image, RDFS.domain, SDO.Recipe))\n",
    "g.add((SDO.recipeCategory, RDFS.domain, SDO.Recipe))\n",
    "g.add((SDO.keywords, RDFS.domain, SDO.Recipe))\n",
    "# #g.add((SDO.name, RDFS.domain, SDO.Recipe)) QUANTITIES\n",
    "# #g.add((SDO.name, RDFS.domain, SDO.Recipe)) PARTS\n",
    "# g.add((SDO.yield, RDFS.domain, SDO.Recipe))\n",
    "g.add((SDO.recipeYield, RDFS.domain, SDO.Recipe))\n",
    "g.add((SDO.recipeInstructions, RDFS.domain, SDO.Recipe))"
   ]
  },
  {
   "cell_type": "markdown",
   "metadata": {},
   "source": [
    "Nutrition Properties"
   ]
  },
  {
   "cell_type": "code",
   "execution_count": null,
   "metadata": {},
   "outputs": [],
   "source": [
    "g.add((SDO.name, RDFS.domain, SDO.NutritionInformation))\n",
    "g.add((SDO.description, RDFS.domain, SDO.NutritionInformation))\n",
    "g.add((SDO.recipeCategory, RDFS.domain, SDO.NutritionInformation))\n",
    "g.add((SDO.calories, RDFS.domain, SDO.NutritionInformation))\n",
    "g.add((SDO.fatContent, RDFS.domain, SDO.NutritionInformation))\n",
    "g.add((SDO.saturatedFatContent, RDFS.domain, SDO.NutritionInformation))\n",
    "g.add((SDO.cholesterolContent, RDFS.domain, SDO.NutritionInformation))\n",
    "g.add((SDO.sodiumContent, RDFS.domain, SDO.NutritionInformation))\n",
    "g.add((SDO.carbohydrateContent, RDFS.domain, SDO.NutritionInformation))\n",
    "g.add((SDO.fiberContent, RDFS.domain, SDO.NutritionInformation))\n",
    "g.add((SDO.sugarContent, RDFS.domain, SDO.NutritionInformation))\n",
    "g.add((SDO.proteinContent, RDFS.domain, SDO.NutritionInformation))"
   ]
  },
  {
   "cell_type": "markdown",
   "metadata": {},
   "source": [
    "Reviews Properties"
   ]
  },
  {
   "cell_type": "code",
   "execution_count": null,
   "metadata": {},
   "outputs": [],
   "source": [
    "reviewId = foodnutrition[\"reviewId\"]\n",
    "g.add((reviewId, RDFS.domain, SDO.Review))\n",
    "g.add((reviewId, RDFS.range, RDFS.Literal))\n",
    "\n",
    "recipeID = foodnutrition[\"recipeID\"]\n",
    "g.add((recipeID, RDFS.domain, SDO.Review))\n",
    "g.add((recipeID, RDFS.range, RDFS.Literal))\n",
    "\n",
    "authorId = foodnutrition[\"authorId\"]\n",
    "g.add((authorId, RDFS.domain, SDO.Review))\n",
    "g.add((authorId, RDFS.range, RDFS.Literal))\n",
    "\n",
    "g.add((SDO.author, RDFS.domain, SDO.Review))\n",
    "g.add((SDO.reviewBody, RDFS.domain, SDO.Review))\n",
    "g.add((SDO.datePublished, RDFS.domain, SDO.Review))\n",
    "g.add((SDO.dateModified, RDFS.domain, SDO.Review))"
   ]
  },
  {
   "cell_type": "markdown",
   "metadata": {},
   "source": [
    "Restaurant Properties"
   ]
  },
  {
   "cell_type": "code",
   "execution_count": null,
   "metadata": {},
   "outputs": [],
   "source": [
    "g.add((SDO.identifier, RDFS.domain, SDO.Restaurant))\n",
    "g.add((SDO.name, RDFS.domain, SDO.Restaurant))\n",
    "#expand location\n",
    "g.add((SDO.location, RDFS.domain, SDO.Restaurant))\n",
    "g.add((SDO.servesCuisine, RDFS.domain, SDO.Restaurant))\n",
    "g.add((SDO.currenciesAccepted, RDFS.domain, SDO.Restaurant))\n",
    "g.add((SDO.acceptsReservations, RDFS.domain, SDO.Restaurant))\n",
    "#3 wierd properties\n",
    "g.add((SDO.priceRange, RDFS.domain, SDO.Restaurant))\n",
    "g.add((SDO.aggregateRating, RDFS.domain, SDO.Restaurant))\n",
    "# 2 wierd Properties\n",
    "votes = foodnutrition[\"votes\"]\n",
    "g.add((votes, RDFS.subClassOf, RDF.Property))\n",
    "g.add((votes, RDFS.domain, SDO.Restaurant))\n",
    "g.add((votes, RDFS.range, RDFS.Literal))\n",
    "g.add((SDO.priceRange, RDFS.domain, SDO.Restaurant))"
   ]
  },
  {
   "cell_type": "markdown",
   "metadata": {},
   "source": [
    "## 2. Add data to our KG"
   ]
  },
  {
   "cell_type": "markdown",
   "metadata": {},
   "source": [
    "Nutrition data"
   ]
  },
  {
   "cell_type": "code",
   "execution_count": null,
   "metadata": {},
   "outputs": [],
   "source": [
    "with open(\"Nutrition.csv\", mode='r', newline='', encoding='latin-1') as file:\n",
    "    reader = csv.reader(file, delimiter=';')  # Create a reader object\n",
    "    header = next(reader)  # Read the header row\n",
    "    print(\"Header:\", header)\n",
    "    i = 0\n",
    "\n",
    "    # Read and print each row\n",
    "    for row in reader:\n",
    "        i += 1\n",
    "        #print(row[1])\n",
    "        #TODO: make better ID than i\n",
    "        Nutrition = foodnutrition[\"Nutrition/\" + str(i)]\n",
    "        g.add((Nutrition, RDF.type, SDO.NutritionInformation))\n",
    "        g.set((Nutrition, SDO.name, Literal(row[0], lang='en')))\n",
    "        g.set((Nutrition, SDO.description, Literal(row[1], lang='en')))\n",
    "        g.set((Nutrition, SDO.recipeCategory, Literal(row[2])))\n",
    "        g.set((Nutrition, SDO.calories, Literal(row[3])))\n",
    "        g.set((Nutrition, SDO.fatContent, Literal(row[4])))\n",
    "        g.set((Nutrition, SDO.saturatedFatContent, Literal(row[5])))\n",
    "        g.set((Nutrition, SDO.cholesterolContent, Literal(row[6])))\n",
    "        g.set((Nutrition, SDO.sodiumContent, Literal(row[7])))\n",
    "        g.set((Nutrition, SDO.carbohydrateContent, Literal(row[8])))\n",
    "        g.set((Nutrition, SDO.fiberContent, Literal(row[9])))\n",
    "        g.set((Nutrition, SDO.sugarContent, Literal(row[10])))\n",
    "        g.set((Nutrition, SDO.proteinContent, Literal(row[11])))\n",
    "        \n",
    "        if i == 10: break\n",
    "g.serialize('top10Nutrition.ttl')"
   ]
  },
  {
   "cell_type": "markdown",
   "metadata": {},
   "source": [
    "Recipe data"
   ]
  },
  {
   "cell_type": "code",
   "execution_count": null,
   "metadata": {},
   "outputs": [],
   "source": [
    "import csv\n",
    "import re\n",
    "from rdflib import Graph, Namespace, URIRef, Literal\n",
    "from rdflib.namespace import RDF, RDFS, XSD\n",
    "\n",
    "# Recipe properties\n",
    "g.add((SDO.hasPart, RDF.type, RDF.Property))\n",
    "g.add((SDO.hasPart, RDFS.domain, SDO.Recipe))          # Recipes have parts (ingredients)\n",
    "g.add((SDO.hasPart, RDFS.range, SDO.HowToItem))        # The parts are HowToItem (ingredients)\n",
    "\n",
    "# Ingredient (HowToItem) properties\n",
    "g.add((SDO.name, RDF.type, RDF.Property))\n",
    "g.add((SDO.name, RDFS.domain, SDO.HowToItem))          # Ingredients have names\n",
    "g.add((SDO.amount, RDF.type, RDF.Property))\n",
    "g.add((SDO.amount, RDFS.domain, SDO.HowToItem))        # Ingredients have amounts/quantities\n",
    "g.add((SDO.amount, RDFS.range, XSD.string))            # Amount is represented as a string (e.g., \"1/2 cup\")\n",
    "\n",
    "# Open the CSV file\n",
    "with open(\"Recipes.csv\", mode='r', newline='', encoding='latin-1') as file:\n",
    "    reader = csv.reader(file, delimiter=';')\n",
    "    header = next(reader)  # Read the header row\n",
    "    print(\"Header:\", header)\n",
    "    \n",
    "    i = 0\n",
    "    for row in reader:\n",
    "        i += 1\n",
    "        Recipe_uri = foodnutrition[\"Recipe/\" + row[0]]  # Create unique URI for each recipe        \n",
    "        # Add basic recipe properties\n",
    "        g.add((Recipe_uri, RDF.type, SDO.Recipe))\n",
    "        g.set((Recipe_uri, SDO.name, Literal(row[1], lang='en')))\n",
    "        \n",
    "        #transform time from ISO-8601 format to integer for seconds\n",
    "        if row[2]:\n",
    "            time = int(row[2][2:-1])\n",
    "            timeType = row[2][-1]\n",
    "            time = time * 60 if timeType == 'M' else time * 3600 \n",
    "            g.set((Recipe_uri, SDO.cookTime, Literal(time)))\n",
    "        \n",
    "        # Add basic recipe properties\n",
    "        g.set((Recipe_uri, SDO.prepTime, Literal(row[3])))\n",
    "        g.set((Recipe_uri, SDO.datePublished, Literal(row[4], datatype=XSD.date)))\n",
    "        g.set((Recipe_uri, SDO.image, Literal(row[5])))\n",
    "        g.set((Recipe_uri, SDO.recipeCategory, Literal(row[6])))\n",
    "        for keyword in re.findall('(?<=\")([^\",]*)(?=\")',  row[7]):\n",
    "            g.add((Recipe_uri, SDO.keywords, Literal(keyword)))\n",
    "        g.set((Recipe_uri, SDO.recipeYield, Literal(row[10])))\n",
    "        g.set((Recipe_uri, SDO.recipeInstructions, Literal(row[12])))\n",
    "\n",
    "        # --- Handle Quantities and Parts ---\n",
    "        quantities_raw = row[8]  # Quantities (e.g., '1/2,5,2,1,1,1')\n",
    "        parts_raw = row[9]       # Ingredients (e.g., 'rice vinegar,haeo')\n",
    "\n",
    "        # Convert to lists, clean 'c()' and whitespace\n",
    "        quantities = [q.strip().strip('\"') for q in quantities_raw.strip('c()').split(',') if q.strip()]\n",
    "        parts = [p.strip().strip('\"') for p in parts_raw.strip('c()').split(',') if p.strip()]\n",
    "\n",
    "        # Match quantities with parts, handling mismatches\n",
    "        max_len = max(len(quantities), len(parts))\n",
    "        \n",
    "        for idx in range(max_len):\n",
    "            quantity = quantities[idx] if idx < len(quantities) else None\n",
    "            part = parts[idx] if idx < len(parts) else None\n",
    "            \n",
    "            if not part or part.lower() == 'na':  # Skip if part is missing or 'NA'\n",
    "                continue\n",
    "\n",
    "            # Create a unique URI for each ingredient\n",
    "            ingredient_uri = foodnutrition[f\"Recipe/{row[0]}/Ingredient/{idx+1}\"]\n",
    "\n",
    "            # Add ingredient as HowToItem\n",
    "            g.add((ingredient_uri, RDF.type, SDO.HowToItem))\n",
    "            g.add((ingredient_uri, SDO.name, Literal(part, lang='en')))\n",
    "            \n",
    "            if quantity and quantity.lower() != 'na':\n",
    "                g.add((ingredient_uri, SDO.amount, Literal(quantity)))\n",
    "\n",
    "            # Link ingredient to the recipe\n",
    "            g.add((Recipe_uri, SDO.hasPart, ingredient_uri))\n",
    "\n",
    "        if i == 10:  # Limit to first 10 recipes\n",
    "            break\n",
    "\n",
    "# Serialize to Turtle format\n",
    "print(g.serialize('top10Recipes_test.ttl'))"
   ]
  },
  {
   "cell_type": "markdown",
   "metadata": {},
   "source": [
    "Restaurant data"
   ]
  },
  {
   "cell_type": "code",
   "execution_count": null,
   "metadata": {},
   "outputs": [],
   "source": [
    "with open(\"Restaurants.csv\", mode='r', newline='', encoding='latin-1') as file:\n",
    "    reader = csv.reader(file, delimiter=';')  # Create a reader object\n",
    "    header = next(reader)  # Read the header row\n",
    "    print(\"Header:\", header)\n",
    "    i = 0\n",
    "\n",
    "    # Read and print each row\n",
    "    for row in reader:\n",
    "        i += 1\n",
    "        Resturant = foodnutrition[\"Restaurant/\" + row[0]]\n",
    "        g.add((Resturant, RDF.type, SDO.Restaurant))\n",
    "        g.set((Resturant, SDO.name, Literal(row[1], lang='en')))\n",
    "\n",
    "        g.set((Resturant, SDO.servesCuisine, Literal(row[8], lang='en')))\n",
    "        g.set((Resturant, SDO.currenciesAccepted, Literal(row[9], lang='en')))\n",
    "        g.set((Resturant, SDO.acceptsReservations, Literal(row[10], datatype=XSD.boolean)))\n",
    "        g.set((Resturant, SDO.priceRange, Literal(row[14])))\n",
    "        g.set((Resturant, SDO.aggregateRating, Literal(row[15])))\n",
    "        g.set((Resturant, foodnutrition.votes, Literal(row[18])))\n",
    "\n",
    "        g.set((Resturant, SDO.priceRange, Literal(row[20])))\n",
    " \n",
    "        \n",
    "        if i == 10: break\n",
    "print(g.serialize('top10Restaurants.ttl'))"
   ]
  },
  {
   "cell_type": "markdown",
   "metadata": {},
   "source": [
    "## 3.1 NLP extract ingredients"
   ]
  },
  {
   "cell_type": "code",
   "execution_count": null,
   "metadata": {},
   "outputs": [],
   "source": [
    "###########"
   ]
  },
  {
   "cell_type": "markdown",
   "metadata": {},
   "source": [
    "## 3.2 Sentiment analysis on Reviews.txt"
   ]
  },
  {
   "cell_type": "markdown",
   "metadata": {},
   "source": [
    "Preprocess Reviews.txt"
   ]
  },
  {
   "cell_type": "code",
   "execution_count": null,
   "metadata": {},
   "outputs": [],
   "source": [
    "import pandas as pd\n",
    "import re\n",
    "from io import StringIO\n",
    "\n",
    "# Read the entire file as raw text\n",
    "with open('Reviews_test.txt', 'r', encoding='utf-8') as file:\n",
    "    raw_text = file.read()\n",
    "\n",
    "# Replace triple quotes and newlines within reviews\n",
    "# Keep newlines that separate proper reviews (i.e., before ReviewId)\n",
    "cleaned_text = re.sub(r'(\"\"\"\"|\\n)(?!(\\d+\\t))', ' ', raw_text)\n",
    "# Now cleaned_text should have each review on a single line, except for proper row separations\n",
    "\n",
    "# Use StringIO to treat the cleaned text like a file\n",
    "cleaned_file = StringIO(cleaned_text)\n",
    "\n",
    "# Load into pandas DataFrame\n",
    "rev_df = pd.read_csv(cleaned_file, delimiter='\\t', on_bad_lines='skip')"
   ]
  },
  {
   "cell_type": "markdown",
   "metadata": {},
   "source": [
    "NLP extract sentiment and confidence"
   ]
  },
  {
   "cell_type": "code",
   "execution_count": null,
   "metadata": {},
   "outputs": [],
   "source": [
    "import logging\n",
    "logging.getLogger(\"transformers\").setLevel(logging.WARNING)\n",
    "\n",
    "# Load Reviews.txt (assuming tab-separated values)\n",
    "# reviews_df = pd.read_csv('Reviews_test.txt', delimiter='\\t')\n",
    "reviews_df = rev_df\n",
    "\n",
    "from transformers import pipeline\n",
    "\n",
    "# Load the sentiment analysis pipeline and use cuda device\n",
    "sentiment_pipeline = pipeline(\"sentiment-analysis\", device=0)\n",
    "# sentiment_pipeline = pipeline(\"sentiment-analysis\", model=\"facebook/bart-large-mnli\", device=0) # for neutral sentiment\n",
    "\n",
    "# Handle NaN values in the 'Review' column\n",
    "reviews_df['Review'] = reviews_df['Review'].fillna(\"\")\n",
    "\n",
    "# Apply sentiment analysis to the reviews\n",
    "sentiment_results = sentiment_pipeline(reviews_df['Review'].tolist())\n",
    "\n",
    "# Add sentiment results back to DataFrame\n",
    "reviews_df['Sentiment'] = [result['label'] for result in sentiment_results]\n",
    "reviews_df['Confidence'] = [result['score'] for result in sentiment_results]\n",
    "\n",
    "# Preview the results\n",
    "# print(reviews_df[['ReviewId', 'Review', 'Sentiment', 'Confidence']])\n",
    "\n",
    "# # Save the results to a CSV file\n",
    "reviews_df[['ReviewId', 'RecipeId', 'Review', 'Sentiment', 'Confidence']].to_csv('sentiment_analysis_results.csv', index=False)\n",
    "\n",
    "# print(\"Sentiment analysis results saved to 'sentiment_analysis_results.csv'\")"
   ]
  },
  {
   "cell_type": "markdown",
   "metadata": {},
   "source": [
    "Add data from Reviews to our KG"
   ]
  },
  {
   "cell_type": "code",
   "execution_count": null,
   "metadata": {},
   "outputs": [],
   "source": [
    "# Define sentiment and confidence properties for the Review class\n",
    "sentiment = foodnutrition[\"sentiment\"]\n",
    "confidence = foodnutrition[\"confidence\"]\n",
    "\n",
    "g.add((sentiment, RDFS.domain, SDO.Review))\n",
    "g.add((sentiment, RDFS.range, RDFS.Literal))\n",
    "\n",
    "g.add((confidence, RDFS.domain, SDO.Review))\n",
    "g.add((confidence, RDFS.range, RDFS.Literal))\n",
    "\n",
    "# Add sentiment and confidence to the graph\n",
    "i = 0\n",
    "# Loop through each review and add it to the KG\n",
    "for index, row in reviews_df.iterrows():\n",
    "    i += 1\n",
    "    \n",
    "    # Create a unique URI for each review\n",
    "    # review_uri = foodnutrition[\"Review/\" + str(i)]\n",
    "    review_uri = foodnutrition[f\"Review/{row['ReviewId']}\"]\n",
    "\n",
    "    # Add the Review type to the graph\n",
    "    g.add((review_uri, RDF.type, SDO.Review))\n",
    "    # Add properties to the Review\n",
    "    g.set((review_uri, foodnutrition.reviewId, Literal(row['ReviewId'])))\n",
    "    g.set((review_uri, foodnutrition.recipeID, Literal(row['RecipeId'])))\n",
    "    g.set((review_uri, foodnutrition.authorId, Literal(row['AuthorId'])))\n",
    "    g.set((review_uri, SDO.author, Literal(row['AuthorName'])))\n",
    "    g.set((review_uri, SDO.reviewBody, Literal(row['Review'])))\n",
    "    g.set((review_uri, SDO.datePublished, Literal(row['DateSubmitted'], datatype=XSD.date)))\n",
    "    g.set((review_uri, SDO.dateModified, Literal(row['DateModified'], datatype=XSD.date)))\n",
    "    \n",
    "    # Add sentiment and confidence\n",
    "    g.set((review_uri, foodnutrition.sentiment, Literal(row['Sentiment'], datatype=XSD.string)))\n",
    "    g.set((review_uri, foodnutrition.confidence, Literal(row['Confidence'], datatype=XSD.float)))\n",
    "\n",
    "    if i == 10: break\n",
    "\n",
    "g.serialize('top10Reviews.ttl')\n"
   ]
  }
 ],
 "metadata": {
  "kernelspec": {
   "display_name": "base",
   "language": "python",
   "name": "python3"
  },
  "language_info": {
   "codemirror_mode": {
    "name": "ipython",
    "version": 3
   },
   "file_extension": ".py",
   "mimetype": "text/x-python",
   "name": "python",
   "nbconvert_exporter": "python",
   "pygments_lexer": "ipython3",
   "version": "3.12.4"
  }
 },
 "nbformat": 4,
 "nbformat_minor": 2
}
